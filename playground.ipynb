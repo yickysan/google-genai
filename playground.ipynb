{
 "cells": [
  {
   "cell_type": "code",
   "execution_count": 93,
   "id": "3fbc98b5",
   "metadata": {},
   "outputs": [],
   "source": [
    "import os\n",
    "import json\n",
    "\n",
    "from dotenv import load_dotenv\n",
    "\n",
    "from langchain_google_genai import ChatGoogleGenerativeAI\n",
    "from langchain_ollama import ChatOllama\n",
    "from typing import Annotated, TypedDict, Literal\n",
    "\n",
    "from langgraph.graph.message import add_messages\n",
    "from langgraph.graph import END\n",
    "from langchain_core.messages.ai import AIMessage\n",
    "from langchain_core.messages.human import HumanMessage\n",
    "from langchain_core.messages.system import SystemMessage\n",
    "from langchain_community.tools import DuckDuckGoSearchResults\n",
    "from pydantic import BaseModel, Field\n",
    "\n",
    "\n",
    "from langchain_unstructured import UnstructuredLoader\n",
    "from langchain_community.vectorstores import SQLiteVec\n",
    "from langchain_huggingface import HuggingFaceEmbeddings\n",
    "from langchain.text_splitter import RecursiveCharacterTextSplitter\n",
    "from langchain.retrievers.multi_query import MultiQueryRetriever\n",
    "from langchain.prompts import PromptTemplate\n",
    "\n",
    "from langgraph.graph import StateGraph, START\n",
    "\n",
    "from IPython.display import Image, Markdown"
   ]
  },
  {
   "cell_type": "code",
   "execution_count": 94,
   "id": "d2590beb",
   "metadata": {},
   "outputs": [],
   "source": [
    "load_dotenv()\n",
    "\n",
    "\n",
    "GOOGLEAPI = os.getenv(\"GOOGLEAPI\")\n",
    "os.environ[\"GOOGLE_API_KEY\"] = GOOGLEAPI\n",
    "\n",
    "GOOGLE= ChatGoogleGenerativeAI(\n",
    "    # temperature=0,\n",
    "    model=\"gemini-2.0-flash\",\n",
    "    # max_tokens=300,\n",
    "    # top_p=0.95,\n",
    "    # top_k=40,\n",
    "    # streaming=True,\n",
    ")\n",
    "\n",
    "OLLAMA = ChatOllama(\n",
    "    model=\"llama3.2:3b\",\n",
    "    temperature=0,\n",
    "    streaming=True,\n",
    ")\n",
    "\n",
    "OLLAMAJSON = ChatOllama(\n",
    "    model=\"llama3.2:3b\",\n",
    "    temperature=0,\n",
    "    format=\"json\",\n",
    "    streaming=True,\n",
    ")\n"
   ]
  },
  {
   "cell_type": "code",
   "execution_count": 95,
   "id": "da31af89",
   "metadata": {},
   "outputs": [],
   "source": [
    "llm = OLLAMA\n",
    "llm_json = OLLAMAJSON\n",
    "\n",
    "#llm.invoke(\"What is python?\")"
   ]
  },
  {
   "cell_type": "code",
   "execution_count": 96,
   "id": "983b9a1e",
   "metadata": {},
   "outputs": [],
   "source": [
    "search = DuckDuckGoSearchResults(output_format=\"json\")"
   ]
  },
  {
   "cell_type": "code",
   "execution_count": 97,
   "id": "13745e9b",
   "metadata": {},
   "outputs": [
    {
     "data": {
      "text/plain": [
       "'Government-issued PEP lists. Countries sometimes publish lists of domestic PEPs or prominent public functions. This is not required by the FATF standards, however, and such lists have potential shortcomings and might pose challenges for effective implementation.. Countries might publish two types of list: (1) a list of positions/functions that would be held by a PEP, or (2) a list of names of ...'"
      ]
     },
     "execution_count": 97,
     "metadata": {},
     "output_type": "execute_result"
    }
   ],
   "source": [
    "json.loads(search.invoke(\"Who is a PEP?\"))[0][\"snippet\"]"
   ]
  },
  {
   "cell_type": "code",
   "execution_count": 98,
   "id": "2be82f23",
   "metadata": {},
   "outputs": [],
   "source": [
    "class Router(BaseModel):\n",
    "    \"\"\"\n",
    "    A simple router to route between states.\n",
    "    \"\"\"\n",
    "    step: Literal[\"audit_assistant\", \"websearch\", \"vectorstore\"] = Field(None, description=\"The step to route to\")"
   ]
  },
  {
   "cell_type": "code",
   "execution_count": 99,
   "id": "23f35a8f",
   "metadata": {},
   "outputs": [],
   "source": [
    "connection = SQLiteVec.create_connection(db_file=\"policies.db\")\n",
    "\n",
    "EMBEDDINGS = HuggingFaceEmbeddings(model_name=\"sentence-transformers/all-MiniLM-L6-v2\")"
   ]
  },
  {
   "cell_type": "code",
   "execution_count": 100,
   "id": "815acdce",
   "metadata": {},
   "outputs": [],
   "source": [
    "def retriever(query: str) -> list[str]:\n",
    "\n",
    "    \"\"\"\n",
    "    Call the retriever tool to get the policy\n",
    "    \"\"\"\n",
    "    vector_db = SQLiteVec(table=\"policy\", embedding=EMBEDDINGS, connection=connection)\n",
    "\n",
    "    QUERY_PROMPT = PromptTemplate(\n",
    "    input_variables=[\"question\"],\n",
    "    template=\"\"\"\n",
    "    Your task is to generate five different versions\n",
    "    of the given user question to retrieve relevant documents from a vector database.\n",
    "    By generating multiple perspectives on the user question, your goal is to help the user\n",
    "    overcome some of the limitations of the distance-based similarity search.\n",
    "    Provide alternative questions seperated by new lines.\n",
    "    Original question: {question}\"\"\",\n",
    "\n",
    "    )\n",
    "\n",
    "    # retriever = MultiQueryRetriever.from_llm(\n",
    "    #                 retriever=vector_db.as_retriever(),\n",
    "    #                 llm=OLLAMA,\n",
    "    #                 prompt=QUERY_PROMPT,\n",
    "    #                 parser_key=\"lines\"\n",
    "    #                 )\n",
    "\n",
    "    retriever = vector_db.as_retriever()\n",
    "    docs = retriever.invoke(query)\n",
    "\n",
    "    return docs"
   ]
  },
  {
   "cell_type": "code",
   "execution_count": 101,
   "id": "f6110982",
   "metadata": {},
   "outputs": [
    {
     "data": {
      "text/plain": [
       "[Document(metadata={'source': 'C:\\\\Users\\\\aeniatorudabo\\\\Documents\\\\7.3 - AML CFT CPF Policy.pdf', 'coordinates': {'points': [[89.088, 191.44999999999993], [89.088, 203.44999999999993], [224.11599999999999, 203.44999999999993], [224.11599999999999, 191.44999999999993]], 'system': 'PixelSpace', 'layout_width': 595.2, 'layout_height': 841.92}, 'file_directory': 'C:\\\\Users\\\\aeniatorudabo\\\\Documents', 'filename': '7.3 - AML CFT CPF Policy.pdf', 'languages': ['eng'], 'last_modified': '2024-11-20T10:18:40', 'page_number': 121, 'filetype': 'application/pdf', 'category': 'Title', 'element_id': 'cdb79991f33ea7a2e4924045042e2c67'}, page_content='with respect to AML/CFT/CFT.'),\n",
       " Document(metadata={'source': 'C:\\\\Users\\\\aeniatorudabo\\\\Documents\\\\7.3 - AML CFT CPF Policy.pdf', 'coordinates': {'points': [[57.624, 197.68999999999994], [57.624, 209.68999999999994], [173.68599999999998, 209.68999999999994], [173.68599999999998, 197.68999999999994]], 'system': 'PixelSpace', 'layout_width': 595.2, 'layout_height': 841.92}, 'file_directory': 'C:\\\\Users\\\\aeniatorudabo\\\\Documents', 'filename': '7.3 - AML CFT CPF Policy.pdf', 'languages': ['eng'], 'last_modified': '2024-11-20T10:18:40', 'page_number': 138, 'filetype': 'application/pdf', 'category': 'Title', 'element_id': 'faa74e240bc8fce3acbd3110aaf4f133'}, page_content='AML/CFT/CPF purposes.'),\n",
       " Document(metadata={'source': 'C:\\\\Users\\\\aeniatorudabo\\\\Documents\\\\7.3 - AML CFT CPF Policy.pdf', 'coordinates': {'points': [[75.624, 608.21], [75.624, 620.21], [295.656, 620.21], [295.656, 608.21]], 'system': 'PixelSpace', 'layout_width': 595.2, 'layout_height': 841.92}, 'file_directory': 'C:\\\\Users\\\\aeniatorudabo\\\\Documents', 'filename': '7.3 - AML CFT CPF Policy.pdf', 'languages': ['eng'], 'last_modified': '2024-11-20T10:18:40', 'page_number': 147, 'parent_id': '2c260a878b4fd054dbf7ce68274f83de', 'filetype': 'application/pdf', 'category': 'NarrativeText', 'element_id': '399acf13b0a90a277203d26ec04f3d39'}, page_content='basic AML/CFT/CPF information as shown below:'),\n",
       " Document(metadata={'source': 'C:\\\\Users\\\\aeniatorudabo\\\\Documents\\\\7.3 - AML CFT CPF Policy.pdf', 'coordinates': {'points': [[93.648, 758.016], [93.648, 770.016], [223.87599999999998, 770.016], [223.87599999999998, 758.016]], 'system': 'PixelSpace', 'layout_width': 595.2, 'layout_height': 841.92}, 'file_directory': 'C:\\\\Users\\\\aeniatorudabo\\\\Documents', 'filename': '7.3 - AML CFT CPF Policy.pdf', 'languages': ['eng'], 'last_modified': '2024-11-20T10:18:40', 'page_number': 138, 'filetype': 'application/pdf', 'category': 'Title', 'element_id': '6bcb4a476417f49463b5c0b1d9e4a734'}, page_content='AML/CFT/CPF requirements.')]"
      ]
     },
     "execution_count": 101,
     "metadata": {},
     "output_type": "execute_result"
    }
   ],
   "source": [
    "retriever(\"What is AML CFT?\")"
   ]
  },
  {
   "cell_type": "code",
   "execution_count": 102,
   "id": "832a74ac",
   "metadata": {},
   "outputs": [],
   "source": [
    "route_prompt = \"\"\"You are a router to route to the audit assistant, vectorstore or websearch based on the question asked.\n",
    "                   The vectorsore contains documents on AML CFT, PEP, KYC and other policies.\n",
    "                   Use the vectorstore for questions on these topics.\n",
    "                   For current events, use the websearch\n",
    "                   For questions on the audits, use audit_assistant.\n",
    "                   Return the step to route to as a json object with the key 'step'\"\"\""
   ]
  },
  {
   "cell_type": "code",
   "execution_count": 103,
   "id": "009aca58",
   "metadata": {},
   "outputs": [
    {
     "data": {
      "text/plain": [
       "{'step': 'vectorstore'}"
      ]
     },
     "execution_count": 103,
     "metadata": {},
     "output_type": "execute_result"
    }
   ],
   "source": [
    "response = llm_json.invoke(\n",
    "    [SystemMessage(route_prompt),\n",
    "    HumanMessage(\"Who is a PEP?\")\n",
    "    ]\n",
    ")\n",
    "\n",
    "json.loads(response.content)"
   ]
  },
  {
   "cell_type": "code",
   "execution_count": 104,
   "id": "7b9a381d",
   "metadata": {},
   "outputs": [
    {
     "name": "stdout",
     "output_type": "stream",
     "text": [
      "{'score': 1}\n",
      "{'score': 1}\n",
      "{'score': 1}\n",
      "{'score': 1}\n"
     ]
    }
   ],
   "source": [
    "document_grader_instructions = \"\"\"\n",
    "    You are a document grader. You will be given a question and a document.\n",
    "    Your task is to grade the document based on the question asked.\n",
    "    if the documemnt contains keywords or semantic meaning related to the question, return a score of 1.\n",
    "    else return a score of 0.\"\"\"\n",
    "\n",
    "document_grader_prompt = \"\"\"\n",
    "Here is the retrieved document \\n\\n{document}\\n\\n\n",
    "Here is the question asked \\n\\n{question}\\n\\n\n",
    "Think carefully about it and return a json object with the key 'score' and the value 1 or 0 based on the document and question\n",
    "to indicate if the document is relevant to the question asked.\"\"\"\n",
    "\n",
    "question = \"What is a PEP?\"\n",
    "documents = retriever(\"Who is a PEP?\")\n",
    "\n",
    "for document in documents:\n",
    "    \n",
    "    response = llm_json.invoke(\n",
    "        [SystemMessage(document_grader_instructions),\n",
    "        HumanMessage(document_grader_prompt.format(document=document.page_content, question=question))\n",
    "        ]\n",
    "    )\n",
    "\n",
    "    print(json.loads(response.content))"
   ]
  },
  {
   "cell_type": "code",
   "execution_count": 105,
   "id": "9a2f46b9",
   "metadata": {},
   "outputs": [
    {
     "data": {
      "text/plain": [
       "'Finally any account(s) opened by any person who qualifies as a “PEP” will be designated a “PEP” account.'"
      ]
     },
     "execution_count": 105,
     "metadata": {},
     "output_type": "execute_result"
    }
   ],
   "source": [
    "document.page_content"
   ]
  },
  {
   "cell_type": "code",
   "execution_count": 106,
   "id": "1f3b3d1e",
   "metadata": {},
   "outputs": [
    {
     "name": "stdout",
     "output_type": "stream",
     "text": [
      "Based on the context provided, a PEP (Politically Exposed Person) is an individual who is or has been entrusted with prominent public functions in Nigeria or elsewhere.\n"
     ]
    }
   ],
   "source": [
    "rag_prompt = \"\"\"\n",
    "You are an assistant that answers questions based on the context provided\n",
    "here is the context \\n\\n{context}\\n\\n\n",
    "\n",
    "Think carefully about the above context and answer the question asked below.\n",
    "\n",
    "Here is the question asked \\n\\n{question}\\n\\n\n",
    "\n",
    "Ansqwe the question using only the context provided above.\n",
    "Be honest and do not make up any information.\"\"\"\n",
    "\n",
    "def format_docs(docs: list[str]) -> str:\n",
    "    \"\"\"\n",
    "    Format the documents to be used in the prompt.\n",
    "    \"\"\"\n",
    "    return \"\\n\\n\".join([doc.page_content for doc in docs])\n",
    "\n",
    "response = llm.invoke(\n",
    "    [HumanMessage(rag_prompt.format(context=format_docs(documents), question=question))]\n",
    ")\n",
    "\n",
    "print(response.content)\n",
    "\n"
   ]
  },
  {
   "cell_type": "code",
   "execution_count": 107,
   "id": "dfb5c593",
   "metadata": {},
   "outputs": [
    {
     "data": {
      "text/plain": [
       "{'score': 1,\n",
       " 'reasoning': \"The response accurately defines a PEP (Politically Exposed Person) as an individual who has been entrusted with prominent public functions, which aligns with the context provided. The only minor deviation is that the context mentions 'Nigeria or elsewhere', but the response still conveys the correct definition of a PEP.\"}"
      ]
     },
     "execution_count": 107,
     "metadata": {},
     "output_type": "execute_result"
    }
   ],
   "source": [
    "hallucination_instructions = \"\"\"\n",
    "    You are a response grader.\n",
    "    You will be given a response and a context for the response.\n",
    "    Your task is to grade the response based on the context provided.\n",
    "    If the response is correct and based on the context, return a score of 1.\n",
    "    else return a score of 0.\n",
    "    Explain the reasoning for your answer step by step.\n",
    "    Do not state the answer from the onset.\n",
    "    \"\"\"\n",
    "\n",
    "\n",
    "hallucination_prompt = \"\"\"\n",
    "Here is the context \\n\\n{context}\\n\\n \n",
    "Here is the response \\n\\n{response}\\n\\n\n",
    "return a json object with the key 'score' and the value 1 or 0 based on the response and context\n",
    "to indicate if the response is relevant to the context provided.\n",
    "return a key 'reasoning' with the value of your reasoning for the score given.\"\"\"\n",
    "\n",
    "hallucination_score = llm_json.invoke(\n",
    "    [SystemMessage(hallucination_instructions),\n",
    "    HumanMessage(hallucination_prompt.format(context=format_docs(documents), response=response.content))\n",
    "    ]\n",
    ")\n",
    "\n",
    "json.loads(hallucination_score.content)"
   ]
  },
  {
   "cell_type": "code",
   "execution_count": 108,
   "id": "82863ad3",
   "metadata": {},
   "outputs": [
    {
     "data": {
      "text/plain": [
       "{'score': 1,\n",
       " 'reasoning': 'The response correctly identifies PEP as an acronym for Politically Exposed Person, and provides a clear definition that aligns with the context provided in the question. The definition specifically mentions Nigeria, which is consistent with the common usage of the term in international contexts.'}"
      ]
     },
     "execution_count": 108,
     "metadata": {},
     "output_type": "execute_result"
    }
   ],
   "source": [
    "response_instructions = \"\"\"\n",
    "    You are a response grader.\n",
    "    You will be given a response and the questuion the response asnwers.\n",
    "    Your task is to grade the response based on the question asked.\n",
    "    If the response is correct and based on the question, return a score of 1.\n",
    "    else return a score of 0.\n",
    "    Explain the reasoning for your answer step by step.\n",
    "    Do not state the answer from the onset.\n",
    "    \"\"\"\n",
    "\n",
    "response_prompt = \"\"\"\n",
    "Here is the question asked \\n\\n{question}\\n\\n\n",
    "Here is the response \\n\\n{response}\\n\\n\n",
    "return a json object with the key 'score' and the value 1 or 0 based on the response and question\n",
    "to indicate if the response is relevant to the question asked.\n",
    "return a key 'reasoning' with the value of your reasoning for the score given.\"\"\"\n",
    "\n",
    "response_score = llm_json.invoke(\n",
    "    [SystemMessage(response_instructions),\n",
    "    HumanMessage(response_prompt.format(question=question, response=response.content))\n",
    "    ]\n",
    ")\n",
    "\n",
    "json.loads(response_score.content)"
   ]
  },
  {
   "cell_type": "code",
   "execution_count": null,
   "id": "ed2972b8",
   "metadata": {},
   "outputs": [],
   "source": [
    "vector_db = SQLiteVec(table=\"policy\", embedding=EMBEDDINGS, connection=connection)\n",
    "retriever = vector_db.as_retriever()\n",
    "\n",
    "SYS_PROMPT = (\n",
    "    \"system\",\n",
    "    \"You are a helpful assistant to help the internal audit staff achieve their goals\"\n",
    "    \"Auditors will come to you with questions about the audit process that should be tested for an audit\"\n",
    "    \"You will answer them to the best of your ability and give reasons for your answers\"\n",
    "    \"They will also ask you aabout the bank's policies, you will answer by retrieving the policy from a vector database\"\n",
    "    \"If you don't know the answer, say 'I don't know'\"\n",
    "    \"You are allowed to search the web for answers. Review answers getting from web search and combine multiple results into a final answer\"\n",
    "    \"Include sources for your final output of the websearch\"\n",
    "    \"Always confirm with auditors if they have additional information to add to the question\"\n",
    "    \"If they do, ask them to provide it\"\n",
    "    \"If they don't, ask them to provide a summary of the question\"\n",
    "    \"Do not show tool names to the user\"\n",
    "    \"Do not show the tool code to the user, only the final answer\"\n",
    ")\n",
    "\n",
    "WELCOME_PROMPT = (\n",
    "    \"Welcome to the Audit Assistant \"\n",
    "    \"I am here to help you with your audit questions.\\n\"\n",
    "    \"Please ask me anything about the audit process or the bank's policies.\\n\"\n",
    "    \"Type exit or quit to end the conversation.\"\n",
    ")\n",
    "\n",
    "\n",
    "class AuditAssistantState(TypedDict):\n",
    "    \"\"\"\n",
    "    A simple agent with state management.\n",
    "    \"\"\"\n",
    "\n",
    "    messages: Annotated[list, add_messages]\n",
    "    finished: bool\n",
    "    documents: list[str]\n",
    "    generated_response: str\n",
    "    loops: int\n",
    "    max_loops: int\n",
    "\n",
    "\n",
    "def router(state: AuditAssistantState) -> AuditAssistantState:\n",
    "\n",
    "    route_prompt = \"\"\"\n",
    "    You are a router to route to the vectorstore or websearch based on the question asked.\n",
    "    The vectorsore contains documents on AML CFT, PEP, KYC and other policies.\n",
    "    Use the vectorstore for questions on these topics.\n",
    "    For current events, use the websearch\n",
    "    for questions on audits route to audit_assistant.\n",
    "    Return the step to route to as a json object with the key 'step'\"\"\"\n",
    "\n",
    "    print(state[\"messages\"][-1].content)\n",
    "    print(\"---ROUTING---\")\n",
    "    \n",
    "    message_history = [SystemMessage(route_prompt)] + [HumanMessage(state[\"messages\"][-1])]\n",
    "    print(message_history)\n",
    "    print(message_history[0].content)\n",
    "    decision = json.loads(llm_json.invoke(message_history).content)[\"step\"]\n",
    "\n",
    "    \n",
    "\n",
    "    if decision == \"websearch\":\n",
    "        print(\"---ROUTING TO WEB SEARCH---\")\n",
    "        return \"websearch\"\n",
    "    \n",
    "    elif decision == \"vectorstore\":\n",
    "        print(\"---ROUTING TO VECTORSTORE---\")\n",
    "        return \"vectorstore\"\n",
    "    \n",
    "    elif decision == \"audit_assistant\":\n",
    "        print(\"---ROUTING TO AUDIT ASSISTANT---\")\n",
    "        return \"audit_assistant\"\n",
    "\n",
    "\n",
    "\n",
    "def retrieve(state: AuditAssistantState) -> AuditAssistantState:\n",
    "\n",
    "    \"\"\"\n",
    "    Retrieve documents from a vector store\n",
    "    \"\"\"\n",
    "    \n",
    "    print(\"---RETRIEVING DOCUMENTS---\")\n",
    "    query = state[\"messages\"][-1]\n",
    "\n",
    "    docs = retriever.invoke(query)\n",
    "\n",
    "    return state | {\"documents\": docs}\n",
    "\n",
    "\n",
    "def generate(state: AuditAssistantState) -> AuditAssistantState:\n",
    "    \"\"\"\n",
    "    Generate a response using RAG\"\"\"\n",
    "\n",
    "\n",
    "    print(\"--GENERATING RESPONSE--\")\n",
    "    question = state[\"messages\"][-1]\n",
    "    document = state[\"documents\"]\n",
    "    loops = state.get(\"loops\", 0)\n",
    "\n",
    "    response = llm.invoke(HumanMessage(rag_prompt.format(context=format_docs(document), question=question)))\n",
    "\n",
    "    \n",
    "    return state | {\"generated_response\": response, \"loops\": loops+1}\n",
    "\n",
    "    \n",
    "def grade_documents(state: AuditAssistantState) -> AuditAssistantState:\n",
    "    \"\"\"\n",
    "    Grade documents as relevant to the question asked\n",
    "    \"\"\"\n",
    "\n",
    "    question = state[\"messages\"][-1]\n",
    "    documents = state[\"documents\"]\n",
    "\n",
    "    filtered_docs = []\n",
    "\n",
    "\n",
    "    for document in documents:\n",
    "    \n",
    "        response = llm_json.invoke(\n",
    "            [SystemMessage(document_grader_instructions),\n",
    "            HumanMessage(document_grader_prompt.format(document=document.page_content, question=question))\n",
    "            ]\n",
    "        )\n",
    "\n",
    "        score = json.loads(response.content)[\"score\"]\n",
    "\n",
    "        if score == 1:\n",
    "            print(\"--GRADED DOCUMENT AS RELEVANT--\")\n",
    "            filtered_docs.append(document)\n",
    "\n",
    "        else:\n",
    "            print(\"--GRADED DOCUMENT AS NOT RELEVANT--\")\n",
    "            continue\n",
    "\n",
    "    \n",
    "    return state | {\"documents\": filtered_docs}\n",
    "\n",
    "\n",
    "def grade_response(state: AuditAssistantState) -> str:\n",
    "    \"\"\"\n",
    "    Grade the response as relevant to the document and  question asked\n",
    "    \"\"\"\n",
    "\n",
    "    question = state[\"messages\"][-1]\n",
    "    response = state[\"generated_response\"]\n",
    "    documents = state[\"documents\"]\n",
    "    max_loops = state.get(\"max_loops\", 3)\n",
    "\n",
    "    hallucination_score = llm_json.invoke(\n",
    "    [SystemMessage(hallucination_instructions),\n",
    "    HumanMessage(hallucination_prompt.format(context=format_docs(documents), response=response))\n",
    "    ]\n",
    "    )\n",
    "\n",
    "    hallucination_score = json.loads(hallucination_score.content)[\"score\"]\n",
    "\n",
    "    if hallucination_score == 1:\n",
    "        print(\"--GRADED RESPONSE IS GROUNDED IN THE DOCUMENT--\")\n",
    "        print(\"--GRADING RESPONSE AS RELEVANT TO QUESTION--\")\n",
    "\n",
    "        response_score = llm_json.invoke(\n",
    "        [SystemMessage(response_instructions),\n",
    "        HumanMessage(response_prompt.format(question=question, response=response.content))\n",
    "        ]\n",
    "        )\n",
    "\n",
    "        response_score = json.loads(response_score.content)[\"score\"]\n",
    "\n",
    "        if response_score == 1:\n",
    "            print(\"--GRADED RESPONSE AS RELEVANT--\")\n",
    "            return \"useful\"\n",
    "        \n",
    "        elif state[\"loops\"] <= max_loops:\n",
    "            print(\"--RESPONSE DOES NOT ADDRESS THE QUESTION--\")\n",
    "            return \"not useful\"\n",
    "        \n",
    "        else:\n",
    "            print(\"--MAX RETRIES REACHED\")\n",
    "            return \"max retries\"\n",
    "        \n",
    "    elif state[\"loops\"] <= max_loops:\n",
    "        print(\"-- RESPONSE IS NOT GROUNDED IN DOCUMENTS, RETRY--\")\n",
    "        return \"not supported\"\n",
    "    \n",
    "    else:\n",
    "        print(\"--MAX RETRIES REACHED--\")\n",
    "        return \"max retries\"\n",
    "\n",
    "\n",
    "def web_search(state: AuditAssistantState) -> AuditAssistantState:\n",
    "\n",
    "    \"\"\"\n",
    "    Search the web for the question asked\"\"\"\n",
    "\n",
    "    print(\"--WEB SEARCHING--\")\n",
    "    query = state[\"messages\"][-1]\n",
    "    documents = state.get(\"documents\", [])\n",
    "\n",
    "    result = json.loads(search.invoke(query))\n",
    "    result = \"\\n\".join([doc[\"snippet\"] for doc in result])\n",
    "    documents.append(result)\n",
    "\n",
    "    return state | {\"documents\": documents}\n",
    "\n",
    "\n",
    "\n",
    "def audit_assistant(state: AuditAssistantState) -> AuditAssistantState:\n",
    "\n",
    "    if state[\"messages\"]:\n",
    "        message_history = [SYS_PROMPT] + state[\"messages\"]\n",
    "        output = llm.invoke(message_history)\n",
    "\n",
    "    else:\n",
    "        output = AIMessage(content=WELCOME_PROMPT)\n",
    "\n",
    "\n",
    "    return state | {\"messages\": [output]}\n",
    "\n",
    "\n",
    "def human_node(state: AuditAssistantState) -> AuditAssistantState:\n",
    "    last_message = state[\"messages\"][-1]\n",
    "\n",
    "    user_input = input(\n",
    "        f\"Assistant: {last_message.content}\\n\"\n",
    "        \"User: \"\n",
    "    )\n",
    "    \n",
    "    if user_input.lower() in [\"exit\", \"quit\", \"stop\"] :\n",
    "        state[\"finished\"] = True\n",
    "   \n",
    "    return state | {\"messages\": [(\"user\", user_input)]}\n",
    "\n",
    "\n",
    "\n",
    "def maybe_exit_human_node(state: AuditAssistantState) -> Literal[\"audit_assistant\", \"__end__\"]:\n",
    "    if state.get(\"finished\", False):\n",
    "        return END\n",
    "    else:\n",
    "        return \"audit_assistant\"\n",
    "    \n",
    "   \n",
    "    \n"
   ]
  },
  {
   "cell_type": "code",
   "execution_count": 212,
   "id": "a43d9acd",
   "metadata": {},
   "outputs": [],
   "source": [
    "graph_builder = StateGraph(AuditAssistantState)\n",
    "\n",
    "graph_builder.add_node(\"audit_assistant\", audit_assistant)\n",
    "graph_builder.add_node(\"human\", human_node)\n",
    "graph_builder.add_node(\"grade_documents\", grade_documents)\n",
    "graph_builder.add_node(\"websearch\", web_search)\n",
    "graph_builder.add_node(\"generate\", generate)\n",
    "graph_builder.add_node(\"retriever\", retrieve)\n",
    "\n",
    "graph_builder.set_conditional_entry_point(router, \n",
    "                                          {\"audit_assistant\": \"audit_assistant\",\n",
    "                                           \"vectorstore\": \"retriever\",\n",
    "                                           \"websearch\": \"websearch\"})\n",
    "# graph_builder.add_edge(START, \"router\")\n",
    "graph_builder.add_edge(\"audit_assistant\", \"human\")\n",
    "graph_builder.add_edge(\"retriever\", \"grade_documents\")\n",
    "\n",
    "graph_builder.add_conditional_edges(\"human\", maybe_exit_human_node)\n",
    "\n",
    "graph_builder.add_conditional_edges(\"generate\", grade_response,\n",
    "                                    {\"not supported\": \"generate\",\n",
    "                                     \"not useful\": \"websearch\",\n",
    "                                     \"useful\": \"audit_assistant\",''\n",
    "                                     \"max retries\": \"audit_assistant\"}\n",
    "                                     )\n",
    "graph_builder.add_conditional_edges(\"grade_documents\", generate)\n",
    "# graph_builder.add_edge(\"tools\", \"chatbot\")\n",
    "chat_graph = graph_builder.compile()"
   ]
  },
  {
   "cell_type": "code",
   "execution_count": 201,
   "id": "df123f8c",
   "metadata": {},
   "outputs": [
    {
     "data": {
      "image/png": "[encoded data removed]",
      "text/plain": [
       "<IPython.core.display.Image object>"
      ]
     },
     "metadata": {},
     "output_type": "display_data"
    }
   ],
   "source": [
    "display(Image(chat_graph.get_graph().draw_mermaid_png()))"
   ]
  },
  {
   "cell_type": "code",
   "execution_count": 213,
   "id": "a357e655",
   "metadata": {},
   "outputs": [
    {
     "name": "stdout",
     "output_type": "stream",
     "text": [
      "content='what is FSDH Merchant Bank?' additional_kwargs={} response_metadata={} id='d66150e7-54a8-4105-86ea-af8d00bf8c34'\n",
      "---ROUTING---\n"
     ]
    },
    {
     "ename": "ValidationError",
     "evalue": "15 validation errors for HumanMessage\ncontent.str\n  Input should be a valid string [type=string_type, input_value=HumanMessage(content='wha...4105-86ea-af8d00bf8c34'), input_type=HumanMessage]\n    For further information visit https://errors.pydantic.dev/2.11/v/string_type\ncontent.list[union[str,dict[any,any]]].0.str\n  Input should be a valid string [type=string_type, input_value=('content', 'what is FSDH Merchant Bank?'), input_type=tuple]\n    For further information visit https://errors.pydantic.dev/2.11/v/string_type\ncontent.list[union[str,dict[any,any]]].0.dict[any,any]\n  Input should be a valid dictionary [type=dict_type, input_value=('content', 'what is FSDH Merchant Bank?'), input_type=tuple]\n    For further information visit https://errors.pydantic.dev/2.11/v/dict_type\ncontent.list[union[str,dict[any,any]]].1.str\n  Input should be a valid string [type=string_type, input_value=('additional_kwargs', {}), input_type=tuple]\n    For further information visit https://errors.pydantic.dev/2.11/v/string_type\ncontent.list[union[str,dict[any,any]]].1.dict[any,any]\n  Input should be a valid dictionary [type=dict_type, input_value=('additional_kwargs', {}), input_type=tuple]\n    For further information visit https://errors.pydantic.dev/2.11/v/dict_type\ncontent.list[union[str,dict[any,any]]].2.str\n  Input should be a valid string [type=string_type, input_value=('response_metadata', {}), input_type=tuple]\n    For further information visit https://errors.pydantic.dev/2.11/v/string_type\ncontent.list[union[str,dict[any,any]]].2.dict[any,any]\n  Input should be a valid dictionary [type=dict_type, input_value=('response_metadata', {}), input_type=tuple]\n    For further information visit https://errors.pydantic.dev/2.11/v/dict_type\ncontent.list[union[str,dict[any,any]]].3.str\n  Input should be a valid string [type=string_type, input_value=('type', 'human'), input_type=tuple]\n    For further information visit https://errors.pydantic.dev/2.11/v/string_type\ncontent.list[union[str,dict[any,any]]].3.dict[any,any]\n  Input should be a valid dictionary [type=dict_type, input_value=('type', 'human'), input_type=tuple]\n    For further information visit https://errors.pydantic.dev/2.11/v/dict_type\ncontent.list[union[str,dict[any,any]]].4.str\n  Input should be a valid string [type=string_type, input_value=('name', None), input_type=tuple]\n    For further information visit https://errors.pydantic.dev/2.11/v/string_type\ncontent.list[union[str,dict[any,any]]].4.dict[any,any]\n  Input should be a valid dictionary [type=dict_type, input_value=('name', None), input_type=tuple]\n    For further information visit https://errors.pydantic.dev/2.11/v/dict_type\ncontent.list[union[str,dict[any,any]]].5.str\n  Input should be a valid string [type=string_type, input_value=('id', 'd66150e7-54a8-4105-86ea-af8d00bf8c34'), input_type=tuple]\n    For further information visit https://errors.pydantic.dev/2.11/v/string_type\ncontent.list[union[str,dict[any,any]]].5.dict[any,any]\n  Input should be a valid dictionary [type=dict_type, input_value=('id', 'd66150e7-54a8-4105-86ea-af8d00bf8c34'), input_type=tuple]\n    For further information visit https://errors.pydantic.dev/2.11/v/dict_type\ncontent.list[union[str,dict[any,any]]].6.str\n  Input should be a valid string [type=string_type, input_value=('example', False), input_type=tuple]\n    For further information visit https://errors.pydantic.dev/2.11/v/string_type\ncontent.list[union[str,dict[any,any]]].6.dict[any,any]\n  Input should be a valid dictionary [type=dict_type, input_value=('example', False), input_type=tuple]\n    For further information visit https://errors.pydantic.dev/2.11/v/dict_type",
     "output_type": "error",
     "traceback": [
      "\u001b[31m---------------------------------------------------------------------------\u001b[39m",
      "\u001b[31mValidationError\u001b[39m                           Traceback (most recent call last)",
      "\u001b[36mCell\u001b[39m\u001b[36m \u001b[39m\u001b[32mIn[213]\u001b[39m\u001b[32m, line 2\u001b[39m\n\u001b[32m      1\u001b[39m inputs = {\u001b[33m\"\u001b[39m\u001b[33mmessages\u001b[39m\u001b[33m\"\u001b[39m: [\u001b[33m\"\u001b[39m\u001b[33mwhat is FSDH Merchant Bank?\u001b[39m\u001b[33m\"\u001b[39m], \u001b[33m\"\u001b[39m\u001b[33mmax_loops\u001b[39m\u001b[33m\"\u001b[39m: \u001b[32m3\u001b[39m}\n\u001b[32m----> \u001b[39m\u001b[32m2\u001b[39m \u001b[38;5;28;43;01mfor\u001b[39;49;00m\u001b[43m \u001b[49m\u001b[43mevent\u001b[49m\u001b[43m \u001b[49m\u001b[38;5;129;43;01min\u001b[39;49;00m\u001b[43m \u001b[49m\u001b[43mchat_graph\u001b[49m\u001b[43m.\u001b[49m\u001b[43mstream\u001b[49m\u001b[43m(\u001b[49m\u001b[43minputs\u001b[49m\u001b[43m,\u001b[49m\u001b[43m \u001b[49m\u001b[43mstream_mode\u001b[49m\u001b[43m=\u001b[49m\u001b[33;43m\"\u001b[39;49m\u001b[33;43mvalues\u001b[39;49m\u001b[33;43m\"\u001b[39;49m\u001b[43m)\u001b[49m\u001b[43m:\u001b[49m\n\u001b[32m      3\u001b[39m \u001b[43m    \u001b[49m\u001b[38;5;28;43mprint\u001b[39;49m\u001b[43m(\u001b[49m\u001b[43mevent\u001b[49m\u001b[43m)\u001b[49m\n",
      "\u001b[36mFile \u001b[39m\u001b[32mc:\\Users\\aeniatorudabo\\GENAI\\agentic_ai_with_google_genai\\.venv\\Lib\\site-packages\\langgraph\\pregel\\__init__.py:2356\u001b[39m, in \u001b[36mPregel.stream\u001b[39m\u001b[34m(self, input, config, stream_mode, output_keys, interrupt_before, interrupt_after, checkpoint_during, debug, subgraphs)\u001b[39m\n\u001b[32m   2350\u001b[39m     \u001b[38;5;66;03m# Similarly to Bulk Synchronous Parallel / Pregel model\u001b[39;00m\n\u001b[32m   2351\u001b[39m     \u001b[38;5;66;03m# computation proceeds in steps, while there are channel updates.\u001b[39;00m\n\u001b[32m   2352\u001b[39m     \u001b[38;5;66;03m# Channel updates from step N are only visible in step N+1\u001b[39;00m\n\u001b[32m   2353\u001b[39m     \u001b[38;5;66;03m# channels are guaranteed to be immutable for the duration of the step,\u001b[39;00m\n\u001b[32m   2354\u001b[39m     \u001b[38;5;66;03m# with channel updates applied only at the transition between steps.\u001b[39;00m\n\u001b[32m   2355\u001b[39m     \u001b[38;5;28;01mwhile\u001b[39;00m loop.tick(input_keys=\u001b[38;5;28mself\u001b[39m.input_channels):\n\u001b[32m-> \u001b[39m\u001b[32m2356\u001b[39m \u001b[43m        \u001b[49m\u001b[38;5;28;43;01mfor\u001b[39;49;00m\u001b[43m \u001b[49m\u001b[43m_\u001b[49m\u001b[43m \u001b[49m\u001b[38;5;129;43;01min\u001b[39;49;00m\u001b[43m \u001b[49m\u001b[43mrunner\u001b[49m\u001b[43m.\u001b[49m\u001b[43mtick\u001b[49m\u001b[43m(\u001b[49m\n\u001b[32m   2357\u001b[39m \u001b[43m            \u001b[49m\u001b[43mloop\u001b[49m\u001b[43m.\u001b[49m\u001b[43mtasks\u001b[49m\u001b[43m.\u001b[49m\u001b[43mvalues\u001b[49m\u001b[43m(\u001b[49m\u001b[43m)\u001b[49m\u001b[43m,\u001b[49m\n\u001b[32m   2358\u001b[39m \u001b[43m            \u001b[49m\u001b[43mtimeout\u001b[49m\u001b[43m=\u001b[49m\u001b[38;5;28;43mself\u001b[39;49m\u001b[43m.\u001b[49m\u001b[43mstep_timeout\u001b[49m\u001b[43m,\u001b[49m\n\u001b[32m   2359\u001b[39m \u001b[43m            \u001b[49m\u001b[43mretry_policy\u001b[49m\u001b[43m=\u001b[49m\u001b[38;5;28;43mself\u001b[39;49m\u001b[43m.\u001b[49m\u001b[43mretry_policy\u001b[49m\u001b[43m,\u001b[49m\n\u001b[32m   2360\u001b[39m \u001b[43m            \u001b[49m\u001b[43mget_waiter\u001b[49m\u001b[43m=\u001b[49m\u001b[43mget_waiter\u001b[49m\u001b[43m,\u001b[49m\n\u001b[32m   2361\u001b[39m \u001b[43m        \u001b[49m\u001b[43m)\u001b[49m\u001b[43m:\u001b[49m\n\u001b[32m   2362\u001b[39m \u001b[43m            \u001b[49m\u001b[38;5;66;43;03m# emit output\u001b[39;49;00m\n\u001b[32m   2363\u001b[39m \u001b[43m            \u001b[49m\u001b[38;5;28;43;01myield from\u001b[39;49;00m\u001b[43m \u001b[49m\u001b[43moutput\u001b[49m\u001b[43m(\u001b[49m\u001b[43m)\u001b[49m\n\u001b[32m   2364\u001b[39m \u001b[38;5;66;03m# emit output\u001b[39;00m\n",
      "\u001b[36mFile \u001b[39m\u001b[32mc:\\Users\\aeniatorudabo\\GENAI\\agentic_ai_with_google_genai\\.venv\\Lib\\site-packages\\langgraph\\pregel\\runner.py:158\u001b[39m, in \u001b[36mPregelRunner.tick\u001b[39m\u001b[34m(self, tasks, reraise, timeout, retry_policy, get_waiter)\u001b[39m\n\u001b[32m    156\u001b[39m t = tasks[\u001b[32m0\u001b[39m]\n\u001b[32m    157\u001b[39m \u001b[38;5;28;01mtry\u001b[39;00m:\n\u001b[32m--> \u001b[39m\u001b[32m158\u001b[39m     \u001b[43mrun_with_retry\u001b[49m\u001b[43m(\u001b[49m\n\u001b[32m    159\u001b[39m \u001b[43m        \u001b[49m\u001b[43mt\u001b[49m\u001b[43m,\u001b[49m\n\u001b[32m    160\u001b[39m \u001b[43m        \u001b[49m\u001b[43mretry_policy\u001b[49m\u001b[43m,\u001b[49m\n\u001b[32m    161\u001b[39m \u001b[43m        \u001b[49m\u001b[43mconfigurable\u001b[49m\u001b[43m=\u001b[49m\u001b[43m{\u001b[49m\n\u001b[32m    162\u001b[39m \u001b[43m            \u001b[49m\u001b[43mCONFIG_KEY_CALL\u001b[49m\u001b[43m:\u001b[49m\u001b[43m \u001b[49m\u001b[43mpartial\u001b[49m\u001b[43m(\u001b[49m\n\u001b[32m    163\u001b[39m \u001b[43m                \u001b[49m\u001b[43m_call\u001b[49m\u001b[43m,\u001b[49m\n\u001b[32m    164\u001b[39m \u001b[43m                \u001b[49m\u001b[43mweakref\u001b[49m\u001b[43m.\u001b[49m\u001b[43mref\u001b[49m\u001b[43m(\u001b[49m\u001b[43mt\u001b[49m\u001b[43m)\u001b[49m\u001b[43m,\u001b[49m\n\u001b[32m    165\u001b[39m \u001b[43m                \u001b[49m\u001b[43mretry\u001b[49m\u001b[43m=\u001b[49m\u001b[43mretry_policy\u001b[49m\u001b[43m,\u001b[49m\n\u001b[32m    166\u001b[39m \u001b[43m                \u001b[49m\u001b[43mfutures\u001b[49m\u001b[43m=\u001b[49m\u001b[43mweakref\u001b[49m\u001b[43m.\u001b[49m\u001b[43mref\u001b[49m\u001b[43m(\u001b[49m\u001b[43mfutures\u001b[49m\u001b[43m)\u001b[49m\u001b[43m,\u001b[49m\n\u001b[32m    167\u001b[39m \u001b[43m                \u001b[49m\u001b[43mschedule_task\u001b[49m\u001b[43m=\u001b[49m\u001b[38;5;28;43mself\u001b[39;49m\u001b[43m.\u001b[49m\u001b[43mschedule_task\u001b[49m\u001b[43m,\u001b[49m\n\u001b[32m    168\u001b[39m \u001b[43m                \u001b[49m\u001b[43msubmit\u001b[49m\u001b[43m=\u001b[49m\u001b[38;5;28;43mself\u001b[39;49m\u001b[43m.\u001b[49m\u001b[43msubmit\u001b[49m\u001b[43m,\u001b[49m\n\u001b[32m    169\u001b[39m \u001b[43m                \u001b[49m\u001b[43mreraise\u001b[49m\u001b[43m=\u001b[49m\u001b[43mreraise\u001b[49m\u001b[43m,\u001b[49m\n\u001b[32m    170\u001b[39m \u001b[43m            \u001b[49m\u001b[43m)\u001b[49m\u001b[43m,\u001b[49m\n\u001b[32m    171\u001b[39m \u001b[43m        \u001b[49m\u001b[43m}\u001b[49m\u001b[43m,\u001b[49m\n\u001b[32m    172\u001b[39m \u001b[43m    \u001b[49m\u001b[43m)\u001b[49m\n\u001b[32m    173\u001b[39m     \u001b[38;5;28mself\u001b[39m.commit(t, \u001b[38;5;28;01mNone\u001b[39;00m)\n\u001b[32m    174\u001b[39m \u001b[38;5;28;01mexcept\u001b[39;00m \u001b[38;5;167;01mException\u001b[39;00m \u001b[38;5;28;01mas\u001b[39;00m exc:\n",
      "\u001b[36mFile \u001b[39m\u001b[32mc:\\Users\\aeniatorudabo\\GENAI\\agentic_ai_with_google_genai\\.venv\\Lib\\site-packages\\langgraph\\pregel\\retry.py:39\u001b[39m, in \u001b[36mrun_with_retry\u001b[39m\u001b[34m(task, retry_policy, configurable)\u001b[39m\n\u001b[32m     37\u001b[39m     task.writes.clear()\n\u001b[32m     38\u001b[39m     \u001b[38;5;66;03m# run the task\u001b[39;00m\n\u001b[32m---> \u001b[39m\u001b[32m39\u001b[39m     \u001b[38;5;28;01mreturn\u001b[39;00m \u001b[43mtask\u001b[49m\u001b[43m.\u001b[49m\u001b[43mproc\u001b[49m\u001b[43m.\u001b[49m\u001b[43minvoke\u001b[49m\u001b[43m(\u001b[49m\u001b[43mtask\u001b[49m\u001b[43m.\u001b[49m\u001b[43minput\u001b[49m\u001b[43m,\u001b[49m\u001b[43m \u001b[49m\u001b[43mconfig\u001b[49m\u001b[43m)\u001b[49m\n\u001b[32m     40\u001b[39m \u001b[38;5;28;01mexcept\u001b[39;00m ParentCommand \u001b[38;5;28;01mas\u001b[39;00m exc:\n\u001b[32m     41\u001b[39m     ns: \u001b[38;5;28mstr\u001b[39m = config[CONF][CONFIG_KEY_CHECKPOINT_NS]\n",
      "\u001b[36mFile \u001b[39m\u001b[32mc:\\Users\\aeniatorudabo\\GENAI\\agentic_ai_with_google_genai\\.venv\\Lib\\site-packages\\langgraph\\utils\\runnable.py:624\u001b[39m, in \u001b[36mRunnableSeq.invoke\u001b[39m\u001b[34m(self, input, config, **kwargs)\u001b[39m\n\u001b[32m    622\u001b[39m                 \u001b[38;5;28minput\u001b[39m = context.run(step.invoke, \u001b[38;5;28minput\u001b[39m, config, **kwargs)\n\u001b[32m    623\u001b[39m         \u001b[38;5;28;01melse\u001b[39;00m:\n\u001b[32m--> \u001b[39m\u001b[32m624\u001b[39m             \u001b[38;5;28minput\u001b[39m = \u001b[43mstep\u001b[49m\u001b[43m.\u001b[49m\u001b[43minvoke\u001b[49m\u001b[43m(\u001b[49m\u001b[38;5;28;43minput\u001b[39;49m\u001b[43m,\u001b[49m\u001b[43m \u001b[49m\u001b[43mconfig\u001b[49m\u001b[43m)\u001b[49m\n\u001b[32m    625\u001b[39m \u001b[38;5;66;03m# finish the root run\u001b[39;00m\n\u001b[32m    626\u001b[39m \u001b[38;5;28;01mexcept\u001b[39;00m \u001b[38;5;167;01mBaseException\u001b[39;00m \u001b[38;5;28;01mas\u001b[39;00m e:\n",
      "\u001b[36mFile \u001b[39m\u001b[32mc:\\Users\\aeniatorudabo\\GENAI\\agentic_ai_with_google_genai\\.venv\\Lib\\site-packages\\langgraph\\utils\\runnable.py:376\u001b[39m, in \u001b[36mRunnableCallable.invoke\u001b[39m\u001b[34m(self, input, config, **kwargs)\u001b[39m\n\u001b[32m    374\u001b[39m         run_manager.on_chain_end(ret)\n\u001b[32m    375\u001b[39m \u001b[38;5;28;01melse\u001b[39;00m:\n\u001b[32m--> \u001b[39m\u001b[32m376\u001b[39m     ret = \u001b[38;5;28;43mself\u001b[39;49m\u001b[43m.\u001b[49m\u001b[43mfunc\u001b[49m\u001b[43m(\u001b[49m\u001b[43m*\u001b[49m\u001b[43margs\u001b[49m\u001b[43m,\u001b[49m\u001b[43m \u001b[49m\u001b[43m*\u001b[49m\u001b[43m*\u001b[49m\u001b[43mkwargs\u001b[49m\u001b[43m)\u001b[49m\n\u001b[32m    377\u001b[39m \u001b[38;5;28;01mif\u001b[39;00m \u001b[38;5;28mself\u001b[39m.recurse \u001b[38;5;129;01mand\u001b[39;00m \u001b[38;5;28misinstance\u001b[39m(ret, Runnable):\n\u001b[32m    378\u001b[39m     \u001b[38;5;28;01mreturn\u001b[39;00m ret.invoke(\u001b[38;5;28minput\u001b[39m, config)\n",
      "\u001b[36mFile \u001b[39m\u001b[32mc:\\Users\\aeniatorudabo\\GENAI\\agentic_ai_with_google_genai\\.venv\\Lib\\site-packages\\langgraph\\graph\\branch.py:166\u001b[39m, in \u001b[36mBranch._route\u001b[39m\u001b[34m(self, input, config, reader, writer)\u001b[39m\n\u001b[32m    164\u001b[39m \u001b[38;5;28;01melse\u001b[39;00m:\n\u001b[32m    165\u001b[39m     value = \u001b[38;5;28minput\u001b[39m\n\u001b[32m--> \u001b[39m\u001b[32m166\u001b[39m result = \u001b[38;5;28;43mself\u001b[39;49m\u001b[43m.\u001b[49m\u001b[43mpath\u001b[49m\u001b[43m.\u001b[49m\u001b[43minvoke\u001b[49m\u001b[43m(\u001b[49m\u001b[43mvalue\u001b[49m\u001b[43m,\u001b[49m\u001b[43m \u001b[49m\u001b[43mconfig\u001b[49m\u001b[43m)\u001b[49m\n\u001b[32m    167\u001b[39m \u001b[38;5;28;01mreturn\u001b[39;00m \u001b[38;5;28mself\u001b[39m._finish(writer, \u001b[38;5;28minput\u001b[39m, result, config)\n",
      "\u001b[36mFile \u001b[39m\u001b[32mc:\\Users\\aeniatorudabo\\GENAI\\agentic_ai_with_google_genai\\.venv\\Lib\\site-packages\\langgraph\\utils\\runnable.py:369\u001b[39m, in \u001b[36mRunnableCallable.invoke\u001b[39m\u001b[34m(self, input, config, **kwargs)\u001b[39m\n\u001b[32m    367\u001b[39m     \u001b[38;5;66;03m# run in context\u001b[39;00m\n\u001b[32m    368\u001b[39m     \u001b[38;5;28;01mwith\u001b[39;00m set_config_context(child_config, run) \u001b[38;5;28;01mas\u001b[39;00m context:\n\u001b[32m--> \u001b[39m\u001b[32m369\u001b[39m         ret = \u001b[43mcontext\u001b[49m\u001b[43m.\u001b[49m\u001b[43mrun\u001b[49m\u001b[43m(\u001b[49m\u001b[38;5;28;43mself\u001b[39;49m\u001b[43m.\u001b[49m\u001b[43mfunc\u001b[49m\u001b[43m,\u001b[49m\u001b[43m \u001b[49m\u001b[43m*\u001b[49m\u001b[43margs\u001b[49m\u001b[43m,\u001b[49m\u001b[43m \u001b[49m\u001b[43m*\u001b[49m\u001b[43m*\u001b[49m\u001b[43mkwargs\u001b[49m\u001b[43m)\u001b[49m\n\u001b[32m    370\u001b[39m \u001b[38;5;28;01mexcept\u001b[39;00m \u001b[38;5;167;01mBaseException\u001b[39;00m \u001b[38;5;28;01mas\u001b[39;00m e:\n\u001b[32m    371\u001b[39m     run_manager.on_chain_error(e)\n",
      "\u001b[36mCell\u001b[39m\u001b[36m \u001b[39m\u001b[32mIn[211]\u001b[39m\u001b[32m, line 54\u001b[39m, in \u001b[36mrouter\u001b[39m\u001b[34m(state)\u001b[39m\n\u001b[32m     51\u001b[39m \u001b[38;5;28mprint\u001b[39m(state[\u001b[33m\"\u001b[39m\u001b[33mmessages\u001b[39m\u001b[33m\"\u001b[39m][-\u001b[32m1\u001b[39m])\n\u001b[32m     52\u001b[39m \u001b[38;5;28mprint\u001b[39m(\u001b[33m\"\u001b[39m\u001b[33m---ROUTING---\u001b[39m\u001b[33m\"\u001b[39m)\n\u001b[32m---> \u001b[39m\u001b[32m54\u001b[39m message_history = [SystemMessage(route_prompt)] + [\u001b[43mHumanMessage\u001b[49m\u001b[43m(\u001b[49m\u001b[43mstate\u001b[49m\u001b[43m[\u001b[49m\u001b[33;43m\"\u001b[39;49m\u001b[33;43mmessages\u001b[39;49m\u001b[33;43m\"\u001b[39;49m\u001b[43m]\u001b[49m\u001b[43m[\u001b[49m\u001b[43m-\u001b[49m\u001b[32;43m1\u001b[39;49m\u001b[43m]\u001b[49m\u001b[43m)\u001b[49m]\n\u001b[32m     55\u001b[39m decision = json.loads(llm_json.invoke(message_history).content)[\u001b[33m\"\u001b[39m\u001b[33mstep\u001b[39m\u001b[33m\"\u001b[39m]\n\u001b[32m     59\u001b[39m \u001b[38;5;28;01mif\u001b[39;00m decision == \u001b[33m\"\u001b[39m\u001b[33mwebsearch\u001b[39m\u001b[33m\"\u001b[39m:\n",
      "\u001b[36mFile \u001b[39m\u001b[32mc:\\Users\\aeniatorudabo\\GENAI\\agentic_ai_with_google_genai\\.venv\\Lib\\site-packages\\langchain_core\\messages\\human.py:52\u001b[39m, in \u001b[36mHumanMessage.__init__\u001b[39m\u001b[34m(self, content, **kwargs)\u001b[39m\n\u001b[32m     43\u001b[39m \u001b[38;5;28;01mdef\u001b[39;00m\u001b[38;5;250m \u001b[39m\u001b[34m__init__\u001b[39m(\n\u001b[32m     44\u001b[39m     \u001b[38;5;28mself\u001b[39m, content: Union[\u001b[38;5;28mstr\u001b[39m, \u001b[38;5;28mlist\u001b[39m[Union[\u001b[38;5;28mstr\u001b[39m, \u001b[38;5;28mdict\u001b[39m]]], **kwargs: Any\n\u001b[32m     45\u001b[39m ) -> \u001b[38;5;28;01mNone\u001b[39;00m:\n\u001b[32m     46\u001b[39m \u001b[38;5;250m    \u001b[39m\u001b[33;03m\"\"\"Pass in content as positional arg.\u001b[39;00m\n\u001b[32m     47\u001b[39m \n\u001b[32m     48\u001b[39m \u001b[33;03m    Args:\u001b[39;00m\n\u001b[32m     49\u001b[39m \u001b[33;03m        content: The string contents of the message.\u001b[39;00m\n\u001b[32m     50\u001b[39m \u001b[33;03m        kwargs: Additional fields to pass to the message.\u001b[39;00m\n\u001b[32m     51\u001b[39m \u001b[33;03m    \"\"\"\u001b[39;00m\n\u001b[32m---> \u001b[39m\u001b[32m52\u001b[39m     \u001b[38;5;28;43msuper\u001b[39;49m\u001b[43m(\u001b[49m\u001b[43m)\u001b[49m\u001b[43m.\u001b[49m\u001b[34;43m__init__\u001b[39;49m\u001b[43m(\u001b[49m\u001b[43mcontent\u001b[49m\u001b[43m=\u001b[49m\u001b[43mcontent\u001b[49m\u001b[43m,\u001b[49m\u001b[43m \u001b[49m\u001b[43m*\u001b[49m\u001b[43m*\u001b[49m\u001b[43mkwargs\u001b[49m\u001b[43m)\u001b[49m\n",
      "\u001b[36mFile \u001b[39m\u001b[32mc:\\Users\\aeniatorudabo\\GENAI\\agentic_ai_with_google_genai\\.venv\\Lib\\site-packages\\langchain_core\\messages\\base.py:78\u001b[39m, in \u001b[36mBaseMessage.__init__\u001b[39m\u001b[34m(self, content, **kwargs)\u001b[39m\n\u001b[32m     70\u001b[39m \u001b[38;5;28;01mdef\u001b[39;00m\u001b[38;5;250m \u001b[39m\u001b[34m__init__\u001b[39m(\n\u001b[32m     71\u001b[39m     \u001b[38;5;28mself\u001b[39m, content: Union[\u001b[38;5;28mstr\u001b[39m, \u001b[38;5;28mlist\u001b[39m[Union[\u001b[38;5;28mstr\u001b[39m, \u001b[38;5;28mdict\u001b[39m]]], **kwargs: Any\n\u001b[32m     72\u001b[39m ) -> \u001b[38;5;28;01mNone\u001b[39;00m:\n\u001b[32m     73\u001b[39m \u001b[38;5;250m    \u001b[39m\u001b[33;03m\"\"\"Pass in content as positional arg.\u001b[39;00m\n\u001b[32m     74\u001b[39m \n\u001b[32m     75\u001b[39m \u001b[33;03m    Args:\u001b[39;00m\n\u001b[32m     76\u001b[39m \u001b[33;03m        content: The string contents of the message.\u001b[39;00m\n\u001b[32m     77\u001b[39m \u001b[33;03m    \"\"\"\u001b[39;00m\n\u001b[32m---> \u001b[39m\u001b[32m78\u001b[39m     \u001b[38;5;28;43msuper\u001b[39;49m\u001b[43m(\u001b[49m\u001b[43m)\u001b[49m\u001b[43m.\u001b[49m\u001b[34;43m__init__\u001b[39;49m\u001b[43m(\u001b[49m\u001b[43mcontent\u001b[49m\u001b[43m=\u001b[49m\u001b[43mcontent\u001b[49m\u001b[43m,\u001b[49m\u001b[43m \u001b[49m\u001b[43m*\u001b[49m\u001b[43m*\u001b[49m\u001b[43mkwargs\u001b[49m\u001b[43m)\u001b[49m\n",
      "\u001b[36mFile \u001b[39m\u001b[32mc:\\Users\\aeniatorudabo\\GENAI\\agentic_ai_with_google_genai\\.venv\\Lib\\site-packages\\langchain_core\\load\\serializable.py:130\u001b[39m, in \u001b[36mSerializable.__init__\u001b[39m\u001b[34m(self, *args, **kwargs)\u001b[39m\n\u001b[32m    128\u001b[39m \u001b[38;5;28;01mdef\u001b[39;00m\u001b[38;5;250m \u001b[39m\u001b[34m__init__\u001b[39m(\u001b[38;5;28mself\u001b[39m, *args: Any, **kwargs: Any) -> \u001b[38;5;28;01mNone\u001b[39;00m:\n\u001b[32m    129\u001b[39m \u001b[38;5;250m    \u001b[39m\u001b[33;03m\"\"\"\"\"\"\u001b[39;00m  \u001b[38;5;66;03m# noqa: D419\u001b[39;00m\n\u001b[32m--> \u001b[39m\u001b[32m130\u001b[39m     \u001b[38;5;28;43msuper\u001b[39;49m\u001b[43m(\u001b[49m\u001b[43m)\u001b[49m\u001b[43m.\u001b[49m\u001b[34;43m__init__\u001b[39;49m\u001b[43m(\u001b[49m\u001b[43m*\u001b[49m\u001b[43margs\u001b[49m\u001b[43m,\u001b[49m\u001b[43m \u001b[49m\u001b[43m*\u001b[49m\u001b[43m*\u001b[49m\u001b[43mkwargs\u001b[49m\u001b[43m)\u001b[49m\n",
      "\u001b[36mFile \u001b[39m\u001b[32mc:\\Users\\aeniatorudabo\\GENAI\\agentic_ai_with_google_genai\\.venv\\Lib\\site-packages\\pydantic\\main.py:253\u001b[39m, in \u001b[36mBaseModel.__init__\u001b[39m\u001b[34m(self, **data)\u001b[39m\n\u001b[32m    251\u001b[39m \u001b[38;5;66;03m# `__tracebackhide__` tells pytest and some other tools to omit this function from tracebacks\u001b[39;00m\n\u001b[32m    252\u001b[39m __tracebackhide__ = \u001b[38;5;28;01mTrue\u001b[39;00m\n\u001b[32m--> \u001b[39m\u001b[32m253\u001b[39m validated_self = \u001b[38;5;28;43mself\u001b[39;49m\u001b[43m.\u001b[49m\u001b[43m__pydantic_validator__\u001b[49m\u001b[43m.\u001b[49m\u001b[43mvalidate_python\u001b[49m\u001b[43m(\u001b[49m\u001b[43mdata\u001b[49m\u001b[43m,\u001b[49m\u001b[43m \u001b[49m\u001b[43mself_instance\u001b[49m\u001b[43m=\u001b[49m\u001b[38;5;28;43mself\u001b[39;49m\u001b[43m)\u001b[49m\n\u001b[32m    254\u001b[39m \u001b[38;5;28;01mif\u001b[39;00m \u001b[38;5;28mself\u001b[39m \u001b[38;5;129;01mis\u001b[39;00m \u001b[38;5;129;01mnot\u001b[39;00m validated_self:\n\u001b[32m    255\u001b[39m     warnings.warn(\n\u001b[32m    256\u001b[39m         \u001b[33m'\u001b[39m\u001b[33mA custom validator is returning a value other than `self`.\u001b[39m\u001b[38;5;130;01m\\n\u001b[39;00m\u001b[33m'\u001b[39m\n\u001b[32m    257\u001b[39m         \u001b[33m\"\u001b[39m\u001b[33mReturning anything other than `self` from a top level model validator isn\u001b[39m\u001b[33m'\u001b[39m\u001b[33mt supported when validating via `__init__`.\u001b[39m\u001b[38;5;130;01m\\n\u001b[39;00m\u001b[33m\"\u001b[39m\n\u001b[32m    258\u001b[39m         \u001b[33m'\u001b[39m\u001b[33mSee the `model_validator` docs (https://docs.pydantic.dev/latest/concepts/validators/#model-validators) for more details.\u001b[39m\u001b[33m'\u001b[39m,\n\u001b[32m    259\u001b[39m         stacklevel=\u001b[32m2\u001b[39m,\n\u001b[32m    260\u001b[39m     )\n",
      "\u001b[31mValidationError\u001b[39m: 15 validation errors for HumanMessage\ncontent.str\n  Input should be a valid string [type=string_type, input_value=HumanMessage(content='wha...4105-86ea-af8d00bf8c34'), input_type=HumanMessage]\n    For further information visit https://errors.pydantic.dev/2.11/v/string_type\ncontent.list[union[str,dict[any,any]]].0.str\n  Input should be a valid string [type=string_type, input_value=('content', 'what is FSDH Merchant Bank?'), input_type=tuple]\n    For further information visit https://errors.pydantic.dev/2.11/v/string_type\ncontent.list[union[str,dict[any,any]]].0.dict[any,any]\n  Input should be a valid dictionary [type=dict_type, input_value=('content', 'what is FSDH Merchant Bank?'), input_type=tuple]\n    For further information visit https://errors.pydantic.dev/2.11/v/dict_type\ncontent.list[union[str,dict[any,any]]].1.str\n  Input should be a valid string [type=string_type, input_value=('additional_kwargs', {}), input_type=tuple]\n    For further information visit https://errors.pydantic.dev/2.11/v/string_type\ncontent.list[union[str,dict[any,any]]].1.dict[any,any]\n  Input should be a valid dictionary [type=dict_type, input_value=('additional_kwargs', {}), input_type=tuple]\n    For further information visit https://errors.pydantic.dev/2.11/v/dict_type\ncontent.list[union[str,dict[any,any]]].2.str\n  Input should be a valid string [type=string_type, input_value=('response_metadata', {}), input_type=tuple]\n    For further information visit https://errors.pydantic.dev/2.11/v/string_type\ncontent.list[union[str,dict[any,any]]].2.dict[any,any]\n  Input should be a valid dictionary [type=dict_type, input_value=('response_metadata', {}), input_type=tuple]\n    For further information visit https://errors.pydantic.dev/2.11/v/dict_type\ncontent.list[union[str,dict[any,any]]].3.str\n  Input should be a valid string [type=string_type, input_value=('type', 'human'), input_type=tuple]\n    For further information visit https://errors.pydantic.dev/2.11/v/string_type\ncontent.list[union[str,dict[any,any]]].3.dict[any,any]\n  Input should be a valid dictionary [type=dict_type, input_value=('type', 'human'), input_type=tuple]\n    For further information visit https://errors.pydantic.dev/2.11/v/dict_type\ncontent.list[union[str,dict[any,any]]].4.str\n  Input should be a valid string [type=string_type, input_value=('name', None), input_type=tuple]\n    For further information visit https://errors.pydantic.dev/2.11/v/string_type\ncontent.list[union[str,dict[any,any]]].4.dict[any,any]\n  Input should be a valid dictionary [type=dict_type, input_value=('name', None), input_type=tuple]\n    For further information visit https://errors.pydantic.dev/2.11/v/dict_type\ncontent.list[union[str,dict[any,any]]].5.str\n  Input should be a valid string [type=string_type, input_value=('id', 'd66150e7-54a8-4105-86ea-af8d00bf8c34'), input_type=tuple]\n    For further information visit https://errors.pydantic.dev/2.11/v/string_type\ncontent.list[union[str,dict[any,any]]].5.dict[any,any]\n  Input should be a valid dictionary [type=dict_type, input_value=('id', 'd66150e7-54a8-4105-86ea-af8d00bf8c34'), input_type=tuple]\n    For further information visit https://errors.pydantic.dev/2.11/v/dict_type\ncontent.list[union[str,dict[any,any]]].6.str\n  Input should be a valid string [type=string_type, input_value=('example', False), input_type=tuple]\n    For further information visit https://errors.pydantic.dev/2.11/v/string_type\ncontent.list[union[str,dict[any,any]]].6.dict[any,any]\n  Input should be a valid dictionary [type=dict_type, input_value=('example', False), input_type=tuple]\n    For further information visit https://errors.pydantic.dev/2.11/v/dict_type",
      "During task with name '__start__' and id '2dbf94ec-a352-7993-d063-edee91c7be09'"
     ]
    }
   ],
   "source": [
    "inputs = {\"messages\": [\"what is FSDH Merchant Bank?\"], \"max_loops\": 3}\n",
    "for event in chat_graph.stream(inputs, stream_mode=\"values\"):\n",
    "    print(event)"
   ]
  },
  {
   "cell_type": "code",
   "execution_count": 185,
   "id": "cb5fccf1",
   "metadata": {},
   "outputs": [
    {
     "name": "stdout",
     "output_type": "stream",
     "text": [
      "---ROUTING---\n"
     ]
    },
    {
     "ename": "ValidationError",
     "evalue": "21 validation errors for HumanMessage\ncontent.str\n  Input should be a valid string [type=string_type, input_value=AIMessage(content=\"Welcom...4fb8-93c3-d69fa75a0b02'), input_type=AIMessage]\n    For further information visit https://errors.pydantic.dev/2.11/v/string_type\ncontent.list[union[str,dict[any,any]]].0.str\n  Input should be a valid string [type=string_type, input_value=('content', \"Welcome to t... end the conversation.\"), input_type=tuple]\n    For further information visit https://errors.pydantic.dev/2.11/v/string_type\ncontent.list[union[str,dict[any,any]]].0.dict[any,any]\n  Input should be a valid dictionary [type=dict_type, input_value=('content', \"Welcome to t... end the conversation.\"), input_type=tuple]\n    For further information visit https://errors.pydantic.dev/2.11/v/dict_type\ncontent.list[union[str,dict[any,any]]].1.str\n  Input should be a valid string [type=string_type, input_value=('additional_kwargs', {}), input_type=tuple]\n    For further information visit https://errors.pydantic.dev/2.11/v/string_type\ncontent.list[union[str,dict[any,any]]].1.dict[any,any]\n  Input should be a valid dictionary [type=dict_type, input_value=('additional_kwargs', {}), input_type=tuple]\n    For further information visit https://errors.pydantic.dev/2.11/v/dict_type\ncontent.list[union[str,dict[any,any]]].2.str\n  Input should be a valid string [type=string_type, input_value=('response_metadata', {}), input_type=tuple]\n    For further information visit https://errors.pydantic.dev/2.11/v/string_type\ncontent.list[union[str,dict[any,any]]].2.dict[any,any]\n  Input should be a valid dictionary [type=dict_type, input_value=('response_metadata', {}), input_type=tuple]\n    For further information visit https://errors.pydantic.dev/2.11/v/dict_type\ncontent.list[union[str,dict[any,any]]].3.str\n  Input should be a valid string [type=string_type, input_value=('type', 'ai'), input_type=tuple]\n    For further information visit https://errors.pydantic.dev/2.11/v/string_type\ncontent.list[union[str,dict[any,any]]].3.dict[any,any]\n  Input should be a valid dictionary [type=dict_type, input_value=('type', 'ai'), input_type=tuple]\n    For further information visit https://errors.pydantic.dev/2.11/v/dict_type\ncontent.list[union[str,dict[any,any]]].4.str\n  Input should be a valid string [type=string_type, input_value=('name', None), input_type=tuple]\n    For further information visit https://errors.pydantic.dev/2.11/v/string_type\ncontent.list[union[str,dict[any,any]]].4.dict[any,any]\n  Input should be a valid dictionary [type=dict_type, input_value=('name', None), input_type=tuple]\n    For further information visit https://errors.pydantic.dev/2.11/v/dict_type\ncontent.list[union[str,dict[any,any]]].5.str\n  Input should be a valid string [type=string_type, input_value=('id', '32891b23-11fe-4fb8-93c3-d69fa75a0b02'), input_type=tuple]\n    For further information visit https://errors.pydantic.dev/2.11/v/string_type\ncontent.list[union[str,dict[any,any]]].5.dict[any,any]\n  Input should be a valid dictionary [type=dict_type, input_value=('id', '32891b23-11fe-4fb8-93c3-d69fa75a0b02'), input_type=tuple]\n    For further information visit https://errors.pydantic.dev/2.11/v/dict_type\ncontent.list[union[str,dict[any,any]]].6.str\n  Input should be a valid string [type=string_type, input_value=('example', False), input_type=tuple]\n    For further information visit https://errors.pydantic.dev/2.11/v/string_type\ncontent.list[union[str,dict[any,any]]].6.dict[any,any]\n  Input should be a valid dictionary [type=dict_type, input_value=('example', False), input_type=tuple]\n    For further information visit https://errors.pydantic.dev/2.11/v/dict_type\ncontent.list[union[str,dict[any,any]]].7.str\n  Input should be a valid string [type=string_type, input_value=('tool_calls', []), input_type=tuple]\n    For further information visit https://errors.pydantic.dev/2.11/v/string_type\ncontent.list[union[str,dict[any,any]]].7.dict[any,any]\n  Input should be a valid dictionary [type=dict_type, input_value=('tool_calls', []), input_type=tuple]\n    For further information visit https://errors.pydantic.dev/2.11/v/dict_type\ncontent.list[union[str,dict[any,any]]].8.str\n  Input should be a valid string [type=string_type, input_value=('invalid_tool_calls', []), input_type=tuple]\n    For further information visit https://errors.pydantic.dev/2.11/v/string_type\ncontent.list[union[str,dict[any,any]]].8.dict[any,any]\n  Input should be a valid dictionary [type=dict_type, input_value=('invalid_tool_calls', []), input_type=tuple]\n    For further information visit https://errors.pydantic.dev/2.11/v/dict_type\ncontent.list[union[str,dict[any,any]]].9.str\n  Input should be a valid string [type=string_type, input_value=('usage_metadata', None), input_type=tuple]\n    For further information visit https://errors.pydantic.dev/2.11/v/string_type\ncontent.list[union[str,dict[any,any]]].9.dict[any,any]\n  Input should be a valid dictionary [type=dict_type, input_value=('usage_metadata', None), input_type=tuple]\n    For further information visit https://errors.pydantic.dev/2.11/v/dict_type",
     "output_type": "error",
     "traceback": [
      "\u001b[31m---------------------------------------------------------------------------\u001b[39m",
      "\u001b[31mValidationError\u001b[39m                           Traceback (most recent call last)",
      "\u001b[36mCell\u001b[39m\u001b[36m \u001b[39m\u001b[32mIn[185]\u001b[39m\u001b[32m, line 2\u001b[39m\n\u001b[32m      1\u001b[39m config = {\u001b[33m\"\u001b[39m\u001b[33mrecursion_limit\u001b[39m\u001b[33m\"\u001b[39m: \u001b[32m1000\u001b[39m}\n\u001b[32m----> \u001b[39m\u001b[32m2\u001b[39m \u001b[43mchat_graph\u001b[49m\u001b[43m.\u001b[49m\u001b[43minvoke\u001b[49m\u001b[43m(\u001b[49m\u001b[43m{\u001b[49m\u001b[33;43m\"\u001b[39;49m\u001b[33;43mmessages\u001b[39;49m\u001b[33;43m\"\u001b[39;49m\u001b[43m:\u001b[49m\u001b[43m \u001b[49m\u001b[43m[\u001b[49m\u001b[43m]\u001b[49m\u001b[43m}\u001b[49m\u001b[43m,\u001b[49m\u001b[43m \u001b[49m\u001b[43mconfig\u001b[49m\u001b[43m)\u001b[49m\n",
      "\u001b[36mFile \u001b[39m\u001b[32mc:\\Users\\aeniatorudabo\\GENAI\\agentic_ai_with_google_genai\\.venv\\Lib\\site-packages\\langgraph\\pregel\\__init__.py:2718\u001b[39m, in \u001b[36mPregel.invoke\u001b[39m\u001b[34m(self, input, config, stream_mode, output_keys, interrupt_before, interrupt_after, checkpoint_during, debug, **kwargs)\u001b[39m\n\u001b[32m   2716\u001b[39m \u001b[38;5;28;01melse\u001b[39;00m:\n\u001b[32m   2717\u001b[39m     chunks = []\n\u001b[32m-> \u001b[39m\u001b[32m2718\u001b[39m \u001b[43m\u001b[49m\u001b[38;5;28;43;01mfor\u001b[39;49;00m\u001b[43m \u001b[49m\u001b[43mchunk\u001b[49m\u001b[43m \u001b[49m\u001b[38;5;129;43;01min\u001b[39;49;00m\u001b[43m \u001b[49m\u001b[38;5;28;43mself\u001b[39;49m\u001b[43m.\u001b[49m\u001b[43mstream\u001b[49m\u001b[43m(\u001b[49m\n\u001b[32m   2719\u001b[39m \u001b[43m    \u001b[49m\u001b[38;5;28;43minput\u001b[39;49m\u001b[43m,\u001b[49m\n\u001b[32m   2720\u001b[39m \u001b[43m    \u001b[49m\u001b[43mconfig\u001b[49m\u001b[43m,\u001b[49m\n\u001b[32m   2721\u001b[39m \u001b[43m    \u001b[49m\u001b[43mstream_mode\u001b[49m\u001b[43m=\u001b[49m\u001b[43mstream_mode\u001b[49m\u001b[43m,\u001b[49m\n\u001b[32m   2722\u001b[39m \u001b[43m    \u001b[49m\u001b[43moutput_keys\u001b[49m\u001b[43m=\u001b[49m\u001b[43moutput_keys\u001b[49m\u001b[43m,\u001b[49m\n\u001b[32m   2723\u001b[39m \u001b[43m    \u001b[49m\u001b[43minterrupt_before\u001b[49m\u001b[43m=\u001b[49m\u001b[43minterrupt_before\u001b[49m\u001b[43m,\u001b[49m\n\u001b[32m   2724\u001b[39m \u001b[43m    \u001b[49m\u001b[43minterrupt_after\u001b[49m\u001b[43m=\u001b[49m\u001b[43minterrupt_after\u001b[49m\u001b[43m,\u001b[49m\n\u001b[32m   2725\u001b[39m \u001b[43m    \u001b[49m\u001b[43mcheckpoint_during\u001b[49m\u001b[43m=\u001b[49m\u001b[43mcheckpoint_during\u001b[49m\u001b[43m,\u001b[49m\n\u001b[32m   2726\u001b[39m \u001b[43m    \u001b[49m\u001b[43mdebug\u001b[49m\u001b[43m=\u001b[49m\u001b[43mdebug\u001b[49m\u001b[43m,\u001b[49m\n\u001b[32m   2727\u001b[39m \u001b[43m    \u001b[49m\u001b[43m*\u001b[49m\u001b[43m*\u001b[49m\u001b[43mkwargs\u001b[49m\u001b[43m,\u001b[49m\n\u001b[32m   2728\u001b[39m \u001b[43m\u001b[49m\u001b[43m)\u001b[49m\u001b[43m:\u001b[49m\n\u001b[32m   2729\u001b[39m \u001b[43m    \u001b[49m\u001b[38;5;28;43;01mif\u001b[39;49;00m\u001b[43m \u001b[49m\u001b[43mstream_mode\u001b[49m\u001b[43m \u001b[49m\u001b[43m==\u001b[49m\u001b[43m \u001b[49m\u001b[33;43m\"\u001b[39;49m\u001b[33;43mvalues\u001b[39;49m\u001b[33;43m\"\u001b[39;49m\u001b[43m:\u001b[49m\n\u001b[32m   2730\u001b[39m \u001b[43m        \u001b[49m\u001b[43mlatest\u001b[49m\u001b[43m \u001b[49m\u001b[43m=\u001b[49m\u001b[43m \u001b[49m\u001b[43mchunk\u001b[49m\n",
      "\u001b[36mFile \u001b[39m\u001b[32mc:\\Users\\aeniatorudabo\\GENAI\\agentic_ai_with_google_genai\\.venv\\Lib\\site-packages\\langgraph\\pregel\\__init__.py:2356\u001b[39m, in \u001b[36mPregel.stream\u001b[39m\u001b[34m(self, input, config, stream_mode, output_keys, interrupt_before, interrupt_after, checkpoint_during, debug, subgraphs)\u001b[39m\n\u001b[32m   2350\u001b[39m     \u001b[38;5;66;03m# Similarly to Bulk Synchronous Parallel / Pregel model\u001b[39;00m\n\u001b[32m   2351\u001b[39m     \u001b[38;5;66;03m# computation proceeds in steps, while there are channel updates.\u001b[39;00m\n\u001b[32m   2352\u001b[39m     \u001b[38;5;66;03m# Channel updates from step N are only visible in step N+1\u001b[39;00m\n\u001b[32m   2353\u001b[39m     \u001b[38;5;66;03m# channels are guaranteed to be immutable for the duration of the step,\u001b[39;00m\n\u001b[32m   2354\u001b[39m     \u001b[38;5;66;03m# with channel updates applied only at the transition between steps.\u001b[39;00m\n\u001b[32m   2355\u001b[39m     \u001b[38;5;28;01mwhile\u001b[39;00m loop.tick(input_keys=\u001b[38;5;28mself\u001b[39m.input_channels):\n\u001b[32m-> \u001b[39m\u001b[32m2356\u001b[39m \u001b[43m        \u001b[49m\u001b[38;5;28;43;01mfor\u001b[39;49;00m\u001b[43m \u001b[49m\u001b[43m_\u001b[49m\u001b[43m \u001b[49m\u001b[38;5;129;43;01min\u001b[39;49;00m\u001b[43m \u001b[49m\u001b[43mrunner\u001b[49m\u001b[43m.\u001b[49m\u001b[43mtick\u001b[49m\u001b[43m(\u001b[49m\n\u001b[32m   2357\u001b[39m \u001b[43m            \u001b[49m\u001b[43mloop\u001b[49m\u001b[43m.\u001b[49m\u001b[43mtasks\u001b[49m\u001b[43m.\u001b[49m\u001b[43mvalues\u001b[49m\u001b[43m(\u001b[49m\u001b[43m)\u001b[49m\u001b[43m,\u001b[49m\n\u001b[32m   2358\u001b[39m \u001b[43m            \u001b[49m\u001b[43mtimeout\u001b[49m\u001b[43m=\u001b[49m\u001b[38;5;28;43mself\u001b[39;49m\u001b[43m.\u001b[49m\u001b[43mstep_timeout\u001b[49m\u001b[43m,\u001b[49m\n\u001b[32m   2359\u001b[39m \u001b[43m            \u001b[49m\u001b[43mretry_policy\u001b[49m\u001b[43m=\u001b[49m\u001b[38;5;28;43mself\u001b[39;49m\u001b[43m.\u001b[49m\u001b[43mretry_policy\u001b[49m\u001b[43m,\u001b[49m\n\u001b[32m   2360\u001b[39m \u001b[43m            \u001b[49m\u001b[43mget_waiter\u001b[49m\u001b[43m=\u001b[49m\u001b[43mget_waiter\u001b[49m\u001b[43m,\u001b[49m\n\u001b[32m   2361\u001b[39m \u001b[43m        \u001b[49m\u001b[43m)\u001b[49m\u001b[43m:\u001b[49m\n\u001b[32m   2362\u001b[39m \u001b[43m            \u001b[49m\u001b[38;5;66;43;03m# emit output\u001b[39;49;00m\n\u001b[32m   2363\u001b[39m \u001b[43m            \u001b[49m\u001b[38;5;28;43;01myield from\u001b[39;49;00m\u001b[43m \u001b[49m\u001b[43moutput\u001b[49m\u001b[43m(\u001b[49m\u001b[43m)\u001b[49m\n\u001b[32m   2364\u001b[39m \u001b[38;5;66;03m# emit output\u001b[39;00m\n",
      "\u001b[36mFile \u001b[39m\u001b[32mc:\\Users\\aeniatorudabo\\GENAI\\agentic_ai_with_google_genai\\.venv\\Lib\\site-packages\\langgraph\\pregel\\runner.py:252\u001b[39m, in \u001b[36mPregelRunner.tick\u001b[39m\u001b[34m(self, tasks, reraise, timeout, retry_policy, get_waiter)\u001b[39m\n\u001b[32m    250\u001b[39m \u001b[38;5;66;03m# panic on failure or timeout\u001b[39;00m\n\u001b[32m    251\u001b[39m \u001b[38;5;28;01mtry\u001b[39;00m:\n\u001b[32m--> \u001b[39m\u001b[32m252\u001b[39m     \u001b[43m_panic_or_proceed\u001b[49m\u001b[43m(\u001b[49m\n\u001b[32m    253\u001b[39m \u001b[43m        \u001b[49m\u001b[43mfutures\u001b[49m\u001b[43m.\u001b[49m\u001b[43mdone\u001b[49m\u001b[43m.\u001b[49m\u001b[43munion\u001b[49m\u001b[43m(\u001b[49m\u001b[43mf\u001b[49m\u001b[43m \u001b[49m\u001b[38;5;28;43;01mfor\u001b[39;49;00m\u001b[43m \u001b[49m\u001b[43mf\u001b[49m\u001b[43m,\u001b[49m\u001b[43m \u001b[49m\u001b[43mt\u001b[49m\u001b[43m \u001b[49m\u001b[38;5;129;43;01min\u001b[39;49;00m\u001b[43m \u001b[49m\u001b[43mfutures\u001b[49m\u001b[43m.\u001b[49m\u001b[43mitems\u001b[49m\u001b[43m(\u001b[49m\u001b[43m)\u001b[49m\u001b[43m \u001b[49m\u001b[38;5;28;43;01mif\u001b[39;49;00m\u001b[43m \u001b[49m\u001b[43mt\u001b[49m\u001b[43m \u001b[49m\u001b[38;5;129;43;01mis\u001b[39;49;00m\u001b[43m \u001b[49m\u001b[38;5;129;43;01mnot\u001b[39;49;00m\u001b[43m \u001b[49m\u001b[38;5;28;43;01mNone\u001b[39;49;00m\u001b[43m)\u001b[49m\u001b[43m,\u001b[49m\n\u001b[32m    254\u001b[39m \u001b[43m        \u001b[49m\u001b[43mpanic\u001b[49m\u001b[43m=\u001b[49m\u001b[43mreraise\u001b[49m\u001b[43m,\u001b[49m\n\u001b[32m    255\u001b[39m \u001b[43m    \u001b[49m\u001b[43m)\u001b[49m\n\u001b[32m    256\u001b[39m \u001b[38;5;28;01mexcept\u001b[39;00m \u001b[38;5;167;01mException\u001b[39;00m \u001b[38;5;28;01mas\u001b[39;00m exc:\n\u001b[32m    257\u001b[39m     \u001b[38;5;28;01mif\u001b[39;00m tb := exc.__traceback__:\n",
      "\u001b[36mFile \u001b[39m\u001b[32mc:\\Users\\aeniatorudabo\\GENAI\\agentic_ai_with_google_genai\\.venv\\Lib\\site-packages\\langgraph\\pregel\\runner.py:504\u001b[39m, in \u001b[36m_panic_or_proceed\u001b[39m\u001b[34m(futs, timeout_exc_cls, panic)\u001b[39m\n\u001b[32m    502\u001b[39m                 interrupts.append(exc)\n\u001b[32m    503\u001b[39m             \u001b[38;5;28;01melse\u001b[39;00m:\n\u001b[32m--> \u001b[39m\u001b[32m504\u001b[39m                 \u001b[38;5;28;01mraise\u001b[39;00m exc\n\u001b[32m    505\u001b[39m \u001b[38;5;66;03m# raise combined interrupts\u001b[39;00m\n\u001b[32m    506\u001b[39m \u001b[38;5;28;01mif\u001b[39;00m interrupts:\n",
      "\u001b[36mFile \u001b[39m\u001b[32mc:\\Users\\aeniatorudabo\\GENAI\\agentic_ai_with_google_genai\\.venv\\Lib\\site-packages\\langgraph\\pregel\\executor.py:83\u001b[39m, in \u001b[36mBackgroundExecutor.done\u001b[39m\u001b[34m(self, task)\u001b[39m\n\u001b[32m     81\u001b[39m \u001b[38;5;250m\u001b[39m\u001b[33;03m\"\"\"Remove the task from the tasks dict when it's done.\"\"\"\u001b[39;00m\n\u001b[32m     82\u001b[39m \u001b[38;5;28;01mtry\u001b[39;00m:\n\u001b[32m---> \u001b[39m\u001b[32m83\u001b[39m     \u001b[43mtask\u001b[49m\u001b[43m.\u001b[49m\u001b[43mresult\u001b[49m\u001b[43m(\u001b[49m\u001b[43m)\u001b[49m\n\u001b[32m     84\u001b[39m \u001b[38;5;28;01mexcept\u001b[39;00m GraphBubbleUp:\n\u001b[32m     85\u001b[39m     \u001b[38;5;66;03m# This exception is an interruption signal, not an error\u001b[39;00m\n\u001b[32m     86\u001b[39m     \u001b[38;5;66;03m# so we don't want to re-raise it on exit\u001b[39;00m\n\u001b[32m     87\u001b[39m     \u001b[38;5;28mself\u001b[39m.tasks.pop(task)\n",
      "\u001b[36mFile \u001b[39m\u001b[32m~\\AppData\\Local\\Programs\\Python\\Python312\\Lib\\concurrent\\futures\\_base.py:449\u001b[39m, in \u001b[36mFuture.result\u001b[39m\u001b[34m(self, timeout)\u001b[39m\n\u001b[32m    447\u001b[39m     \u001b[38;5;28;01mraise\u001b[39;00m CancelledError()\n\u001b[32m    448\u001b[39m \u001b[38;5;28;01melif\u001b[39;00m \u001b[38;5;28mself\u001b[39m._state == FINISHED:\n\u001b[32m--> \u001b[39m\u001b[32m449\u001b[39m     \u001b[38;5;28;01mreturn\u001b[39;00m \u001b[38;5;28;43mself\u001b[39;49m\u001b[43m.\u001b[49m\u001b[43m__get_result\u001b[49m\u001b[43m(\u001b[49m\u001b[43m)\u001b[49m\n\u001b[32m    451\u001b[39m \u001b[38;5;28mself\u001b[39m._condition.wait(timeout)\n\u001b[32m    453\u001b[39m \u001b[38;5;28;01mif\u001b[39;00m \u001b[38;5;28mself\u001b[39m._state \u001b[38;5;129;01min\u001b[39;00m [CANCELLED, CANCELLED_AND_NOTIFIED]:\n",
      "\u001b[36mFile \u001b[39m\u001b[32m~\\AppData\\Local\\Programs\\Python\\Python312\\Lib\\concurrent\\futures\\_base.py:401\u001b[39m, in \u001b[36mFuture.__get_result\u001b[39m\u001b[34m(self)\u001b[39m\n\u001b[32m    399\u001b[39m \u001b[38;5;28;01mif\u001b[39;00m \u001b[38;5;28mself\u001b[39m._exception:\n\u001b[32m    400\u001b[39m     \u001b[38;5;28;01mtry\u001b[39;00m:\n\u001b[32m--> \u001b[39m\u001b[32m401\u001b[39m         \u001b[38;5;28;01mraise\u001b[39;00m \u001b[38;5;28mself\u001b[39m._exception\n\u001b[32m    402\u001b[39m     \u001b[38;5;28;01mfinally\u001b[39;00m:\n\u001b[32m    403\u001b[39m         \u001b[38;5;66;03m# Break a reference cycle with the exception in self._exception\u001b[39;00m\n\u001b[32m    404\u001b[39m         \u001b[38;5;28mself\u001b[39m = \u001b[38;5;28;01mNone\u001b[39;00m\n",
      "\u001b[36mFile \u001b[39m\u001b[32m~\\AppData\\Local\\Programs\\Python\\Python312\\Lib\\concurrent\\futures\\thread.py:58\u001b[39m, in \u001b[36m_WorkItem.run\u001b[39m\u001b[34m(self)\u001b[39m\n\u001b[32m     55\u001b[39m     \u001b[38;5;28;01mreturn\u001b[39;00m\n\u001b[32m     57\u001b[39m \u001b[38;5;28;01mtry\u001b[39;00m:\n\u001b[32m---> \u001b[39m\u001b[32m58\u001b[39m     result = \u001b[38;5;28;43mself\u001b[39;49m\u001b[43m.\u001b[49m\u001b[43mfn\u001b[49m\u001b[43m(\u001b[49m\u001b[43m*\u001b[49m\u001b[38;5;28;43mself\u001b[39;49m\u001b[43m.\u001b[49m\u001b[43margs\u001b[49m\u001b[43m,\u001b[49m\u001b[43m \u001b[49m\u001b[43m*\u001b[49m\u001b[43m*\u001b[49m\u001b[38;5;28;43mself\u001b[39;49m\u001b[43m.\u001b[49m\u001b[43mkwargs\u001b[49m\u001b[43m)\u001b[49m\n\u001b[32m     59\u001b[39m \u001b[38;5;28;01mexcept\u001b[39;00m \u001b[38;5;167;01mBaseException\u001b[39;00m \u001b[38;5;28;01mas\u001b[39;00m exc:\n\u001b[32m     60\u001b[39m     \u001b[38;5;28mself\u001b[39m.future.set_exception(exc)\n",
      "\u001b[36mFile \u001b[39m\u001b[32mc:\\Users\\aeniatorudabo\\GENAI\\agentic_ai_with_google_genai\\.venv\\Lib\\site-packages\\langgraph\\pregel\\retry.py:39\u001b[39m, in \u001b[36mrun_with_retry\u001b[39m\u001b[34m(task, retry_policy, configurable)\u001b[39m\n\u001b[32m     37\u001b[39m     task.writes.clear()\n\u001b[32m     38\u001b[39m     \u001b[38;5;66;03m# run the task\u001b[39;00m\n\u001b[32m---> \u001b[39m\u001b[32m39\u001b[39m     \u001b[38;5;28;01mreturn\u001b[39;00m \u001b[43mtask\u001b[49m\u001b[43m.\u001b[49m\u001b[43mproc\u001b[49m\u001b[43m.\u001b[49m\u001b[43minvoke\u001b[49m\u001b[43m(\u001b[49m\u001b[43mtask\u001b[49m\u001b[43m.\u001b[49m\u001b[43minput\u001b[49m\u001b[43m,\u001b[49m\u001b[43m \u001b[49m\u001b[43mconfig\u001b[49m\u001b[43m)\u001b[49m\n\u001b[32m     40\u001b[39m \u001b[38;5;28;01mexcept\u001b[39;00m ParentCommand \u001b[38;5;28;01mas\u001b[39;00m exc:\n\u001b[32m     41\u001b[39m     ns: \u001b[38;5;28mstr\u001b[39m = config[CONF][CONFIG_KEY_CHECKPOINT_NS]\n",
      "\u001b[36mFile \u001b[39m\u001b[32mc:\\Users\\aeniatorudabo\\GENAI\\agentic_ai_with_google_genai\\.venv\\Lib\\site-packages\\langgraph\\utils\\runnable.py:622\u001b[39m, in \u001b[36mRunnableSeq.invoke\u001b[39m\u001b[34m(self, input, config, **kwargs)\u001b[39m\n\u001b[32m    620\u001b[39m     \u001b[38;5;66;03m# run in context\u001b[39;00m\n\u001b[32m    621\u001b[39m     \u001b[38;5;28;01mwith\u001b[39;00m set_config_context(config, run) \u001b[38;5;28;01mas\u001b[39;00m context:\n\u001b[32m--> \u001b[39m\u001b[32m622\u001b[39m         \u001b[38;5;28minput\u001b[39m = \u001b[43mcontext\u001b[49m\u001b[43m.\u001b[49m\u001b[43mrun\u001b[49m\u001b[43m(\u001b[49m\u001b[43mstep\u001b[49m\u001b[43m.\u001b[49m\u001b[43minvoke\u001b[49m\u001b[43m,\u001b[49m\u001b[43m \u001b[49m\u001b[38;5;28;43minput\u001b[39;49m\u001b[43m,\u001b[49m\u001b[43m \u001b[49m\u001b[43mconfig\u001b[49m\u001b[43m,\u001b[49m\u001b[43m \u001b[49m\u001b[43m*\u001b[49m\u001b[43m*\u001b[49m\u001b[43mkwargs\u001b[49m\u001b[43m)\u001b[49m\n\u001b[32m    623\u001b[39m \u001b[38;5;28;01melse\u001b[39;00m:\n\u001b[32m    624\u001b[39m     \u001b[38;5;28minput\u001b[39m = step.invoke(\u001b[38;5;28minput\u001b[39m, config)\n",
      "\u001b[36mFile \u001b[39m\u001b[32mc:\\Users\\aeniatorudabo\\GENAI\\agentic_ai_with_google_genai\\.venv\\Lib\\site-packages\\langgraph\\utils\\runnable.py:376\u001b[39m, in \u001b[36mRunnableCallable.invoke\u001b[39m\u001b[34m(self, input, config, **kwargs)\u001b[39m\n\u001b[32m    374\u001b[39m         run_manager.on_chain_end(ret)\n\u001b[32m    375\u001b[39m \u001b[38;5;28;01melse\u001b[39;00m:\n\u001b[32m--> \u001b[39m\u001b[32m376\u001b[39m     ret = \u001b[38;5;28;43mself\u001b[39;49m\u001b[43m.\u001b[49m\u001b[43mfunc\u001b[49m\u001b[43m(\u001b[49m\u001b[43m*\u001b[49m\u001b[43margs\u001b[49m\u001b[43m,\u001b[49m\u001b[43m \u001b[49m\u001b[43m*\u001b[49m\u001b[43m*\u001b[49m\u001b[43mkwargs\u001b[49m\u001b[43m)\u001b[49m\n\u001b[32m    377\u001b[39m \u001b[38;5;28;01mif\u001b[39;00m \u001b[38;5;28mself\u001b[39m.recurse \u001b[38;5;129;01mand\u001b[39;00m \u001b[38;5;28misinstance\u001b[39m(ret, Runnable):\n\u001b[32m    378\u001b[39m     \u001b[38;5;28;01mreturn\u001b[39;00m ret.invoke(\u001b[38;5;28minput\u001b[39m, config)\n",
      "\u001b[36mCell\u001b[39m\u001b[36m \u001b[39m\u001b[32mIn[178]\u001b[39m\u001b[32m, line 54\u001b[39m, in \u001b[36mrouter\u001b[39m\u001b[34m(state)\u001b[39m\n\u001b[32m     45\u001b[39m route_prompt = \u001b[33m\"\"\"\u001b[39m\n\u001b[32m     46\u001b[39m \u001b[33mYou are a router to route to the vectorstore or websearch based on the question asked.\u001b[39m\n\u001b[32m     47\u001b[39m \u001b[33mThe vectorsore contains documents on AML CFT, PEP, KYC and other policies.\u001b[39m\n\u001b[32m     48\u001b[39m \u001b[33mUse the vectorstore for questions on these topics.\u001b[39m\n\u001b[32m     49\u001b[39m \u001b[33mFor current events, use the websearch\u001b[39m\n\u001b[32m     50\u001b[39m \u001b[33mReturn the step to route to as a json object with the key \u001b[39m\u001b[33m'\u001b[39m\u001b[33mstep\u001b[39m\u001b[33m'\u001b[39m\u001b[33m\"\"\"\u001b[39m\n\u001b[32m     53\u001b[39m \u001b[38;5;28mprint\u001b[39m(\u001b[33m\"\u001b[39m\u001b[33m---ROUTING---\u001b[39m\u001b[33m\"\u001b[39m)\n\u001b[32m---> \u001b[39m\u001b[32m54\u001b[39m message_history = [SystemMessage(route_prompt)] + [\u001b[43mHumanMessage\u001b[49m\u001b[43m(\u001b[49m\u001b[43mstate\u001b[49m\u001b[43m[\u001b[49m\u001b[33;43m\"\u001b[39;49m\u001b[33;43mmessages\u001b[39;49m\u001b[33;43m\"\u001b[39;49m\u001b[43m]\u001b[49m\u001b[43m[\u001b[49m\u001b[43m-\u001b[49m\u001b[32;43m1\u001b[39;49m\u001b[43m]\u001b[49m\u001b[43m)\u001b[49m]\n\u001b[32m     55\u001b[39m output = json.loads(llm_json.invoke(message_history).content)[\u001b[33m\"\u001b[39m\u001b[33mstep\u001b[39m\u001b[33m\"\u001b[39m]\n\u001b[32m     60\u001b[39m \u001b[38;5;28;01mreturn\u001b[39;00m state | {\u001b[33m\"\u001b[39m\u001b[33mdecision\u001b[39m\u001b[33m\"\u001b[39m: output}\n",
      "\u001b[36mFile \u001b[39m\u001b[32mc:\\Users\\aeniatorudabo\\GENAI\\agentic_ai_with_google_genai\\.venv\\Lib\\site-packages\\langchain_core\\messages\\human.py:52\u001b[39m, in \u001b[36mHumanMessage.__init__\u001b[39m\u001b[34m(self, content, **kwargs)\u001b[39m\n\u001b[32m     43\u001b[39m \u001b[38;5;28;01mdef\u001b[39;00m\u001b[38;5;250m \u001b[39m\u001b[34m__init__\u001b[39m(\n\u001b[32m     44\u001b[39m     \u001b[38;5;28mself\u001b[39m, content: Union[\u001b[38;5;28mstr\u001b[39m, \u001b[38;5;28mlist\u001b[39m[Union[\u001b[38;5;28mstr\u001b[39m, \u001b[38;5;28mdict\u001b[39m]]], **kwargs: Any\n\u001b[32m     45\u001b[39m ) -> \u001b[38;5;28;01mNone\u001b[39;00m:\n\u001b[32m     46\u001b[39m \u001b[38;5;250m    \u001b[39m\u001b[33;03m\"\"\"Pass in content as positional arg.\u001b[39;00m\n\u001b[32m     47\u001b[39m \n\u001b[32m     48\u001b[39m \u001b[33;03m    Args:\u001b[39;00m\n\u001b[32m     49\u001b[39m \u001b[33;03m        content: The string contents of the message.\u001b[39;00m\n\u001b[32m     50\u001b[39m \u001b[33;03m        kwargs: Additional fields to pass to the message.\u001b[39;00m\n\u001b[32m     51\u001b[39m \u001b[33;03m    \"\"\"\u001b[39;00m\n\u001b[32m---> \u001b[39m\u001b[32m52\u001b[39m     \u001b[38;5;28;43msuper\u001b[39;49m\u001b[43m(\u001b[49m\u001b[43m)\u001b[49m\u001b[43m.\u001b[49m\u001b[34;43m__init__\u001b[39;49m\u001b[43m(\u001b[49m\u001b[43mcontent\u001b[49m\u001b[43m=\u001b[49m\u001b[43mcontent\u001b[49m\u001b[43m,\u001b[49m\u001b[43m \u001b[49m\u001b[43m*\u001b[49m\u001b[43m*\u001b[49m\u001b[43mkwargs\u001b[49m\u001b[43m)\u001b[49m\n",
      "\u001b[36mFile \u001b[39m\u001b[32mc:\\Users\\aeniatorudabo\\GENAI\\agentic_ai_with_google_genai\\.venv\\Lib\\site-packages\\langchain_core\\messages\\base.py:78\u001b[39m, in \u001b[36mBaseMessage.__init__\u001b[39m\u001b[34m(self, content, **kwargs)\u001b[39m\n\u001b[32m     70\u001b[39m \u001b[38;5;28;01mdef\u001b[39;00m\u001b[38;5;250m \u001b[39m\u001b[34m__init__\u001b[39m(\n\u001b[32m     71\u001b[39m     \u001b[38;5;28mself\u001b[39m, content: Union[\u001b[38;5;28mstr\u001b[39m, \u001b[38;5;28mlist\u001b[39m[Union[\u001b[38;5;28mstr\u001b[39m, \u001b[38;5;28mdict\u001b[39m]]], **kwargs: Any\n\u001b[32m     72\u001b[39m ) -> \u001b[38;5;28;01mNone\u001b[39;00m:\n\u001b[32m     73\u001b[39m \u001b[38;5;250m    \u001b[39m\u001b[33;03m\"\"\"Pass in content as positional arg.\u001b[39;00m\n\u001b[32m     74\u001b[39m \n\u001b[32m     75\u001b[39m \u001b[33;03m    Args:\u001b[39;00m\n\u001b[32m     76\u001b[39m \u001b[33;03m        content: The string contents of the message.\u001b[39;00m\n\u001b[32m     77\u001b[39m \u001b[33;03m    \"\"\"\u001b[39;00m\n\u001b[32m---> \u001b[39m\u001b[32m78\u001b[39m     \u001b[38;5;28;43msuper\u001b[39;49m\u001b[43m(\u001b[49m\u001b[43m)\u001b[49m\u001b[43m.\u001b[49m\u001b[34;43m__init__\u001b[39;49m\u001b[43m(\u001b[49m\u001b[43mcontent\u001b[49m\u001b[43m=\u001b[49m\u001b[43mcontent\u001b[49m\u001b[43m,\u001b[49m\u001b[43m \u001b[49m\u001b[43m*\u001b[49m\u001b[43m*\u001b[49m\u001b[43mkwargs\u001b[49m\u001b[43m)\u001b[49m\n",
      "\u001b[36mFile \u001b[39m\u001b[32mc:\\Users\\aeniatorudabo\\GENAI\\agentic_ai_with_google_genai\\.venv\\Lib\\site-packages\\langchain_core\\load\\serializable.py:130\u001b[39m, in \u001b[36mSerializable.__init__\u001b[39m\u001b[34m(self, *args, **kwargs)\u001b[39m\n\u001b[32m    128\u001b[39m \u001b[38;5;28;01mdef\u001b[39;00m\u001b[38;5;250m \u001b[39m\u001b[34m__init__\u001b[39m(\u001b[38;5;28mself\u001b[39m, *args: Any, **kwargs: Any) -> \u001b[38;5;28;01mNone\u001b[39;00m:\n\u001b[32m    129\u001b[39m \u001b[38;5;250m    \u001b[39m\u001b[33;03m\"\"\"\"\"\"\u001b[39;00m  \u001b[38;5;66;03m# noqa: D419\u001b[39;00m\n\u001b[32m--> \u001b[39m\u001b[32m130\u001b[39m     \u001b[38;5;28;43msuper\u001b[39;49m\u001b[43m(\u001b[49m\u001b[43m)\u001b[49m\u001b[43m.\u001b[49m\u001b[34;43m__init__\u001b[39;49m\u001b[43m(\u001b[49m\u001b[43m*\u001b[49m\u001b[43margs\u001b[49m\u001b[43m,\u001b[49m\u001b[43m \u001b[49m\u001b[43m*\u001b[49m\u001b[43m*\u001b[49m\u001b[43mkwargs\u001b[49m\u001b[43m)\u001b[49m\n",
      "\u001b[36mFile \u001b[39m\u001b[32mc:\\Users\\aeniatorudabo\\GENAI\\agentic_ai_with_google_genai\\.venv\\Lib\\site-packages\\pydantic\\main.py:253\u001b[39m, in \u001b[36mBaseModel.__init__\u001b[39m\u001b[34m(self, **data)\u001b[39m\n\u001b[32m    251\u001b[39m \u001b[38;5;66;03m# `__tracebackhide__` tells pytest and some other tools to omit this function from tracebacks\u001b[39;00m\n\u001b[32m    252\u001b[39m __tracebackhide__ = \u001b[38;5;28;01mTrue\u001b[39;00m\n\u001b[32m--> \u001b[39m\u001b[32m253\u001b[39m validated_self = \u001b[38;5;28;43mself\u001b[39;49m\u001b[43m.\u001b[49m\u001b[43m__pydantic_validator__\u001b[49m\u001b[43m.\u001b[49m\u001b[43mvalidate_python\u001b[49m\u001b[43m(\u001b[49m\u001b[43mdata\u001b[49m\u001b[43m,\u001b[49m\u001b[43m \u001b[49m\u001b[43mself_instance\u001b[49m\u001b[43m=\u001b[49m\u001b[38;5;28;43mself\u001b[39;49m\u001b[43m)\u001b[49m\n\u001b[32m    254\u001b[39m \u001b[38;5;28;01mif\u001b[39;00m \u001b[38;5;28mself\u001b[39m \u001b[38;5;129;01mis\u001b[39;00m \u001b[38;5;129;01mnot\u001b[39;00m validated_self:\n\u001b[32m    255\u001b[39m     warnings.warn(\n\u001b[32m    256\u001b[39m         \u001b[33m'\u001b[39m\u001b[33mA custom validator is returning a value other than `self`.\u001b[39m\u001b[38;5;130;01m\\n\u001b[39;00m\u001b[33m'\u001b[39m\n\u001b[32m    257\u001b[39m         \u001b[33m\"\u001b[39m\u001b[33mReturning anything other than `self` from a top level model validator isn\u001b[39m\u001b[33m'\u001b[39m\u001b[33mt supported when validating via `__init__`.\u001b[39m\u001b[38;5;130;01m\\n\u001b[39;00m\u001b[33m\"\u001b[39m\n\u001b[32m    258\u001b[39m         \u001b[33m'\u001b[39m\u001b[33mSee the `model_validator` docs (https://docs.pydantic.dev/latest/concepts/validators/#model-validators) for more details.\u001b[39m\u001b[33m'\u001b[39m,\n\u001b[32m    259\u001b[39m         stacklevel=\u001b[32m2\u001b[39m,\n\u001b[32m    260\u001b[39m     )\n",
      "\u001b[31mValidationError\u001b[39m: 21 validation errors for HumanMessage\ncontent.str\n  Input should be a valid string [type=string_type, input_value=AIMessage(content=\"Welcom...4fb8-93c3-d69fa75a0b02'), input_type=AIMessage]\n    For further information visit https://errors.pydantic.dev/2.11/v/string_type\ncontent.list[union[str,dict[any,any]]].0.str\n  Input should be a valid string [type=string_type, input_value=('content', \"Welcome to t... end the conversation.\"), input_type=tuple]\n    For further information visit https://errors.pydantic.dev/2.11/v/string_type\ncontent.list[union[str,dict[any,any]]].0.dict[any,any]\n  Input should be a valid dictionary [type=dict_type, input_value=('content', \"Welcome to t... end the conversation.\"), input_type=tuple]\n    For further information visit https://errors.pydantic.dev/2.11/v/dict_type\ncontent.list[union[str,dict[any,any]]].1.str\n  Input should be a valid string [type=string_type, input_value=('additional_kwargs', {}), input_type=tuple]\n    For further information visit https://errors.pydantic.dev/2.11/v/string_type\ncontent.list[union[str,dict[any,any]]].1.dict[any,any]\n  Input should be a valid dictionary [type=dict_type, input_value=('additional_kwargs', {}), input_type=tuple]\n    For further information visit https://errors.pydantic.dev/2.11/v/dict_type\ncontent.list[union[str,dict[any,any]]].2.str\n  Input should be a valid string [type=string_type, input_value=('response_metadata', {}), input_type=tuple]\n    For further information visit https://errors.pydantic.dev/2.11/v/string_type\ncontent.list[union[str,dict[any,any]]].2.dict[any,any]\n  Input should be a valid dictionary [type=dict_type, input_value=('response_metadata', {}), input_type=tuple]\n    For further information visit https://errors.pydantic.dev/2.11/v/dict_type\ncontent.list[union[str,dict[any,any]]].3.str\n  Input should be a valid string [type=string_type, input_value=('type', 'ai'), input_type=tuple]\n    For further information visit https://errors.pydantic.dev/2.11/v/string_type\ncontent.list[union[str,dict[any,any]]].3.dict[any,any]\n  Input should be a valid dictionary [type=dict_type, input_value=('type', 'ai'), input_type=tuple]\n    For further information visit https://errors.pydantic.dev/2.11/v/dict_type\ncontent.list[union[str,dict[any,any]]].4.str\n  Input should be a valid string [type=string_type, input_value=('name', None), input_type=tuple]\n    For further information visit https://errors.pydantic.dev/2.11/v/string_type\ncontent.list[union[str,dict[any,any]]].4.dict[any,any]\n  Input should be a valid dictionary [type=dict_type, input_value=('name', None), input_type=tuple]\n    For further information visit https://errors.pydantic.dev/2.11/v/dict_type\ncontent.list[union[str,dict[any,any]]].5.str\n  Input should be a valid string [type=string_type, input_value=('id', '32891b23-11fe-4fb8-93c3-d69fa75a0b02'), input_type=tuple]\n    For further information visit https://errors.pydantic.dev/2.11/v/string_type\ncontent.list[union[str,dict[any,any]]].5.dict[any,any]\n  Input should be a valid dictionary [type=dict_type, input_value=('id', '32891b23-11fe-4fb8-93c3-d69fa75a0b02'), input_type=tuple]\n    For further information visit https://errors.pydantic.dev/2.11/v/dict_type\ncontent.list[union[str,dict[any,any]]].6.str\n  Input should be a valid string [type=string_type, input_value=('example', False), input_type=tuple]\n    For further information visit https://errors.pydantic.dev/2.11/v/string_type\ncontent.list[union[str,dict[any,any]]].6.dict[any,any]\n  Input should be a valid dictionary [type=dict_type, input_value=('example', False), input_type=tuple]\n    For further information visit https://errors.pydantic.dev/2.11/v/dict_type\ncontent.list[union[str,dict[any,any]]].7.str\n  Input should be a valid string [type=string_type, input_value=('tool_calls', []), input_type=tuple]\n    For further information visit https://errors.pydantic.dev/2.11/v/string_type\ncontent.list[union[str,dict[any,any]]].7.dict[any,any]\n  Input should be a valid dictionary [type=dict_type, input_value=('tool_calls', []), input_type=tuple]\n    For further information visit https://errors.pydantic.dev/2.11/v/dict_type\ncontent.list[union[str,dict[any,any]]].8.str\n  Input should be a valid string [type=string_type, input_value=('invalid_tool_calls', []), input_type=tuple]\n    For further information visit https://errors.pydantic.dev/2.11/v/string_type\ncontent.list[union[str,dict[any,any]]].8.dict[any,any]\n  Input should be a valid dictionary [type=dict_type, input_value=('invalid_tool_calls', []), input_type=tuple]\n    For further information visit https://errors.pydantic.dev/2.11/v/dict_type\ncontent.list[union[str,dict[any,any]]].9.str\n  Input should be a valid string [type=string_type, input_value=('usage_metadata', None), input_type=tuple]\n    For further information visit https://errors.pydantic.dev/2.11/v/string_type\ncontent.list[union[str,dict[any,any]]].9.dict[any,any]\n  Input should be a valid dictionary [type=dict_type, input_value=('usage_metadata', None), input_type=tuple]\n    For further information visit https://errors.pydantic.dev/2.11/v/dict_type",
      "During task with name 'router' and id 'bbd29c9d-4cc0-8a99-12e4-5eeba5ef2a47'"
     ]
    }
   ],
   "source": [
    "config = {\"recursion_limit\": 1000}\n",
    "chat_graph.invoke({\"messages\": []}, config)"
   ]
  }
 ],
 "metadata": {
  "kernelspec": {
   "display_name": ".venv",
   "language": "python",
   "name": "python3"
  },
  "language_info": {
   "codemirror_mode": {
    "name": "ipython",
    "version": 3
   },
   "file_extension": ".py",
   "mimetype": "text/x-python",
   "name": "python",
   "nbconvert_exporter": "python",
   "pygments_lexer": "ipython3",
   "version": "3.12.3"
  }
 },
 "nbformat": 4,
 "nbformat_minor": 5
}
