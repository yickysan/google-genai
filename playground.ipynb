{
 "cells": [
  {
   "cell_type": "code",
   "execution_count": 1,
   "id": "3fbc98b5",
   "metadata": {},
   "outputs": [],
   "source": [
    "import os\n",
    "import json\n",
    "\n",
    "from dotenv import load_dotenv\n",
    "\n",
    "from langchain_google_genai import ChatGoogleGenerativeAI\n",
    "from langchain_ollama import ChatOllama\n",
    "from typing import Annotated, TypedDict, Literal\n",
    "\n",
    "from langgraph.graph.message import add_messages\n",
    "from langgraph.graph import END\n",
    "from langchain_core.messages.ai import AIMessage\n",
    "from langchain_core.messages.human import HumanMessage\n",
    "from langchain_core.documents.base import Document\n",
    "from langchain_core.messages.system import SystemMessage\n",
    "from langchain_community.tools import DuckDuckGoSearchResults\n",
    "from pydantic import BaseModel, Field\n",
    "\n",
    "\n",
    "from langchain_unstructured import UnstructuredLoader\n",
    "from langchain_community.vectorstores import SQLiteVec\n",
    "from langchain_huggingface import HuggingFaceEmbeddings\n",
    "from langchain.text_splitter import RecursiveCharacterTextSplitter\n",
    "from langchain.retrievers.multi_query import MultiQueryRetriever\n",
    "from langchain.prompts import PromptTemplate\n",
    "\n",
    "from langgraph.graph import StateGraph, START\n",
    "\n",
    "from IPython.display import Image, Markdown"
   ]
  },
  {
   "cell_type": "code",
   "execution_count": 2,
   "id": "d2590beb",
   "metadata": {},
   "outputs": [],
   "source": [
    "load_dotenv()\n",
    "\n",
    "\n",
    "GOOGLEAPI = os.getenv(\"GOOGLEAPI\")\n",
    "os.environ[\"GOOGLE_API_KEY\"] = GOOGLEAPI\n",
    "\n",
    "GOOGLE= ChatGoogleGenerativeAI(\n",
    "    # temperature=0,\n",
    "    model=\"gemini-2.0-flash\",\n",
    "    # max_tokens=300,\n",
    "    # top_p=0.95,\n",
    "    # top_k=40,\n",
    "    # streaming=True,\n",
    ")\n",
    "\n",
    "OLLAMA = ChatOllama(\n",
    "    model=\"llama3.2:3b\",\n",
    "    temperature=0,\n",
    "    streaming=True,\n",
    ")\n",
    "\n",
    "OLLAMAJSON = ChatOllama(\n",
    "    model=\"llama3.2:3b\",\n",
    "    temperature=0,\n",
    "    format=\"json\",\n",
    "    streaming=True,\n",
    ")\n"
   ]
  },
  {
   "cell_type": "code",
   "execution_count": 57,
   "id": "f626d11e",
   "metadata": {},
   "outputs": [],
   "source": [
    "\n",
    "class RouterStep(BaseModel):\n",
    "    step: Literal[\"vectorstore\", \"websearch\"]\n",
    "\n",
    "class RouterStep2(TypedDict):\n",
    "    step: Literal[\"vectorstore\", \"websearch\"]\n",
    "    score: int\n",
    "    reasoning: str\n",
    "    "
   ]
  },
  {
   "cell_type": "code",
   "execution_count": 58,
   "id": "da31af89",
   "metadata": {},
   "outputs": [],
   "source": [
    "llm = GOOGLE\n",
    "#llm_router = llm.with_structured_output(schema=RouterStep)\n",
    "llm_json = GOOGLE.with_structured_output(schema=RouterStep2)\n",
    "\n",
    "#llm.invoke(\"What is python?\")"
   ]
  },
  {
   "cell_type": "code",
   "execution_count": 5,
   "id": "983b9a1e",
   "metadata": {},
   "outputs": [],
   "source": [
    "search = DuckDuckGoSearchResults(output_format=\"json\")"
   ]
  },
  {
   "cell_type": "code",
   "execution_count": 5,
   "id": "13745e9b",
   "metadata": {},
   "outputs": [
    {
     "data": {
      "text/plain": [
       "\"What is a PEP / Politically Exposed Persons? A politically exposed person (PEP) is someone who has a high-profile political role or has been entrusted with a prominent public function. Because of their position, they are more likely to be involved in money laundering and/or terrorist financing. Why should this be of money laundering concern? These individuals' positions can be abused to ...\""
      ]
     },
     "execution_count": 5,
     "metadata": {},
     "output_type": "execute_result"
    }
   ],
   "source": [
    "json.loads(search.invoke(\"Who is a PEP?\"))[0][\"snippet\"]"
   ]
  },
  {
   "cell_type": "code",
   "execution_count": 98,
   "id": "2be82f23",
   "metadata": {},
   "outputs": [],
   "source": [
    "class Router(BaseModel):\n",
    "    \"\"\"\n",
    "    A simple router to route between states.\n",
    "    \"\"\"\n",
    "    step: Literal[\"audit_assistant\", \"websearch\", \"vectorstore\"] = Field(None, description=\"The step to route to\")"
   ]
  },
  {
   "cell_type": "code",
   "execution_count": 6,
   "id": "23f35a8f",
   "metadata": {},
   "outputs": [
    {
     "name": "stderr",
     "output_type": "stream",
     "text": [
      "c:\\Users\\aeniatorudabo\\GENAI\\agentic_ai_with_google_genai\\.venv\\Lib\\site-packages\\tqdm\\auto.py:21: TqdmWarning: IProgress not found. Please update jupyter and ipywidgets. See https://ipywidgets.readthedocs.io/en/stable/user_install.html\n",
      "  from .autonotebook import tqdm as notebook_tqdm\n"
     ]
    }
   ],
   "source": [
    "connection = SQLiteVec.create_connection(db_file=\"policies.db\")\n",
    "\n",
    "EMBEDDINGS = HuggingFaceEmbeddings(model_name=\"sentence-transformers/all-MiniLM-L6-v2\")"
   ]
  },
  {
   "cell_type": "code",
   "execution_count": null,
   "id": "ed03437e",
   "metadata": {},
   "outputs": [],
   "source": [
    "from langchain_huggingface import ChatHuggingFace"
   ]
  },
  {
   "cell_type": "code",
   "execution_count": 54,
   "id": "815acdce",
   "metadata": {},
   "outputs": [],
   "source": [
    "def retriever(query: str) -> list[str]:\n",
    "\n",
    "    \"\"\"\n",
    "    Call the retriever tool to get the policy\n",
    "    \"\"\"\n",
    "    vector_db = SQLiteVec(table=\"policy\", embedding=EMBEDDINGS, connection=connection)\n",
    "\n",
    "    QUERY_PROMPT = PromptTemplate(\n",
    "    input_variables=[\"question\"],\n",
    "    template=\"\"\"\n",
    "    Your task is to generate five different versions\n",
    "    of the given user question to retrieve relevant documents from a vector database.\n",
    "    By generating multiple perspectives on the user question, your goal is to help the user\n",
    "    overcome some of the limitations of the distance-based similarity search.\n",
    "    Provide alternative questions seperated by new lines.\n",
    "    Original question: {question}\"\"\",\n",
    "\n",
    "    )\n",
    "\n",
    "    # retriever = MultiQueryRetriever.from_llm(\n",
    "    #                 retriever=vector_db.as_retriever(),\n",
    "    #                 llm=OLLAMA,\n",
    "    #                 prompt=QUERY_PROMPT,\n",
    "    #                 parser_key=\"lines\"\n",
    "    #                 )\n",
    "\n",
    "    retriever = vector_db.as_retriever()\n",
    "    docs = retriever.invoke(query)\n",
    "\n",
    "    return docs"
   ]
  },
  {
   "cell_type": "code",
   "execution_count": 11,
   "id": "f6110982",
   "metadata": {},
   "outputs": [
    {
     "data": {
      "text/plain": [
       "[Document(metadata={'source': 'C:\\\\Users\\\\aeniatorudabo\\\\Documents\\\\7.3 - AML CFT CPF Policy.pdf', 'coordinates': {'points': [[89.088, 191.44999999999993], [89.088, 203.44999999999993], [224.11599999999999, 203.44999999999993], [224.11599999999999, 191.44999999999993]], 'system': 'PixelSpace', 'layout_width': 595.2, 'layout_height': 841.92}, 'file_directory': 'C:\\\\Users\\\\aeniatorudabo\\\\Documents', 'filename': '7.3 - AML CFT CPF Policy.pdf', 'languages': ['eng'], 'last_modified': '2024-11-20T10:18:40', 'page_number': 121, 'filetype': 'application/pdf', 'category': 'Title', 'element_id': 'cdb79991f33ea7a2e4924045042e2c67'}, page_content='with respect to AML/CFT/CFT.'),\n",
       " Document(metadata={'source': 'C:\\\\Users\\\\aeniatorudabo\\\\Documents\\\\7.3 - AML CFT CPF Policy.pdf', 'coordinates': {'points': [[57.624, 197.68999999999994], [57.624, 209.68999999999994], [173.68599999999998, 209.68999999999994], [173.68599999999998, 197.68999999999994]], 'system': 'PixelSpace', 'layout_width': 595.2, 'layout_height': 841.92}, 'file_directory': 'C:\\\\Users\\\\aeniatorudabo\\\\Documents', 'filename': '7.3 - AML CFT CPF Policy.pdf', 'languages': ['eng'], 'last_modified': '2024-11-20T10:18:40', 'page_number': 138, 'filetype': 'application/pdf', 'category': 'Title', 'element_id': 'faa74e240bc8fce3acbd3110aaf4f133'}, page_content='AML/CFT/CPF purposes.'),\n",
       " Document(metadata={'source': 'C:\\\\Users\\\\aeniatorudabo\\\\Documents\\\\7.3 - AML CFT CPF Policy.pdf', 'coordinates': {'points': [[75.624, 608.21], [75.624, 620.21], [295.656, 620.21], [295.656, 608.21]], 'system': 'PixelSpace', 'layout_width': 595.2, 'layout_height': 841.92}, 'file_directory': 'C:\\\\Users\\\\aeniatorudabo\\\\Documents', 'filename': '7.3 - AML CFT CPF Policy.pdf', 'languages': ['eng'], 'last_modified': '2024-11-20T10:18:40', 'page_number': 147, 'parent_id': '2c260a878b4fd054dbf7ce68274f83de', 'filetype': 'application/pdf', 'category': 'NarrativeText', 'element_id': '399acf13b0a90a277203d26ec04f3d39'}, page_content='basic AML/CFT/CPF information as shown below:'),\n",
       " Document(metadata={'source': 'C:\\\\Users\\\\aeniatorudabo\\\\Documents\\\\7.3 - AML CFT CPF Policy.pdf', 'coordinates': {'points': [[93.648, 758.016], [93.648, 770.016], [223.87599999999998, 770.016], [223.87599999999998, 758.016]], 'system': 'PixelSpace', 'layout_width': 595.2, 'layout_height': 841.92}, 'file_directory': 'C:\\\\Users\\\\aeniatorudabo\\\\Documents', 'filename': '7.3 - AML CFT CPF Policy.pdf', 'languages': ['eng'], 'last_modified': '2024-11-20T10:18:40', 'page_number': 138, 'filetype': 'application/pdf', 'category': 'Title', 'element_id': '6bcb4a476417f49463b5c0b1d9e4a734'}, page_content='AML/CFT/CPF requirements.')]"
      ]
     },
     "execution_count": 11,
     "metadata": {},
     "output_type": "execute_result"
    }
   ],
   "source": [
    "retriever(\"What is AML CFT?\")"
   ]
  },
  {
   "cell_type": "code",
   "execution_count": 12,
   "id": "832a74ac",
   "metadata": {},
   "outputs": [],
   "source": [
    "route_prompt = \"\"\"You are a router to route to the audit assistant, vectorstore or websearch based on the question asked.\n",
    "                   The vectorsore contains documents on AML CFT, PEP, KYC and other policies.\n",
    "                   Use the vectorstore for questions on these topics and questions concerning FSDH.\n",
    "                   For current events and any other question, use the websearch\n",
    "                   Return the step to route to as a json object with the key 'step'\"\"\""
   ]
  },
  {
   "cell_type": "code",
   "execution_count": 59,
   "id": "009aca58",
   "metadata": {},
   "outputs": [
    {
     "data": {
      "text/plain": [
       "{'score': 9.0,\n",
       " 'reasoning': \"The question is a general question about the definition of 'audit' and does not involve FSDH, AML, CFT, PEP, or KYC. Therefore, it should be routed to websearch.\",\n",
       " 'step': 'websearch'}"
      ]
     },
     "execution_count": 59,
     "metadata": {},
     "output_type": "execute_result"
    }
   ],
   "source": [
    "response = llm_json.invoke(\n",
    "    [SystemMessage(route_prompt),\n",
    "    HumanMessage(\"What is audit?\")\n",
    "    ]\n",
    ")\n",
    "\n",
    "response"
   ]
  },
  {
   "cell_type": "code",
   "execution_count": 9,
   "id": "30d07a47",
   "metadata": {},
   "outputs": [],
   "source": [
    "def parse_json(json_str: str) -> dict:\n",
    "    \"\"\"\n",
    "    Parse the json string to a dictionary\n",
    "    \"\"\"\n",
    "    json_str = json_str.split(\"json\")[-1].strip(\"`\").replace(\"\\n\", \"\")\n",
    "    try:\n",
    "        return json.loads(json_str)\n",
    "    except json.JSONDecodeError as e:\n",
    "        print(f\"Error parsing JSON: {e}\")\n",
    "        return {}"
   ]
  },
  {
   "cell_type": "code",
   "execution_count": 52,
   "id": "012c86f9",
   "metadata": {},
   "outputs": [],
   "source": [
    "#parse_json(response)"
   ]
  },
  {
   "cell_type": "code",
   "execution_count": 129,
   "id": "4f85548a",
   "metadata": {},
   "outputs": [
    {
     "data": {
      "text/plain": [
       "'{\\n  \"step\": \"vectorstore\"\\n}\\n\\n \\n \\n\\n \\n\\n \\n\\n \\n\\n \\n\\n \\n\\n \\n\\n \\n\\n \\n\\n \\n\\n \\n\\n \\n\\n \\n\\n \\n\\n \\n\\n \\n\\n \\n\\n \\n\\n \\n\\n \\n\\n \\n\\n \\n\\n \\n\\n \\n\\n \\n\\n \\n\\n \\n\\n \\n\\n \\n\\n \\n\\n'"
      ]
     },
     "execution_count": 129,
     "metadata": {},
     "output_type": "execute_result"
    }
   ],
   "source": [
    "response.content"
   ]
  },
  {
   "cell_type": "code",
   "execution_count": 55,
   "id": "7b9a381d",
   "metadata": {},
   "outputs": [
    {
     "name": "stdout",
     "output_type": "stream",
     "text": [
      "{'step': 'websearch'}\n"
     ]
    }
   ],
   "source": [
    "document_grader_instructions = \"\"\"\n",
    "    You are a document grader. You will be given a question and a document.\n",
    "    Your task is to grade the document based on the question asked.\n",
    "    if the documemnt contains keywords or semantic meaning related to the question, return a score of 1.\n",
    "    else return a score of 0.\"\"\"\n",
    "\n",
    "document_grader_prompt = \"\"\"\n",
    "Here is the retrieved document \\n\\n{document}\\n\\n\n",
    "Here is the question asked \\n\\n{question}\\n\\n\n",
    "Think carefully about it and return a json object with the key 'score' and the value 1 or 0 based on the document and question\n",
    "to indicate if the document is relevant to the question asked.\"\"\"\n",
    "\n",
    "question = \"Who is a PEP?\"\n",
    "documents = retriever(\"Who is a PEP?\")\n",
    "\n",
    "for document in documents:\n",
    "    \n",
    "    response = llm_json.invoke(\n",
    "        [SystemMessage(document_grader_instructions),\n",
    "        HumanMessage(document_grader_prompt.format(document=document.page_content, question=question))\n",
    "        ]\n",
    "    )\n",
    "\n",
    "    # print(parse_json(response.content))\n",
    "    print(response)\n",
    "    break"
   ]
  },
  {
   "cell_type": "code",
   "execution_count": 36,
   "id": "4eceb78d",
   "metadata": {},
   "outputs": [
    {
     "data": {
      "text/plain": [
       "\"\\nHere is the retrieved document \\n\\ndealing with PEPs:\\n\\n\\nHere is the question asked \\n\\nWho is a PEP?\\n\\n\\nThink carefully about it and return a json object with the key 'score' and the value 1 or 0 based on the document and question\\nto indicate if the document is relevant to the question asked.\""
      ]
     },
     "execution_count": 36,
     "metadata": {},
     "output_type": "execute_result"
    }
   ],
   "source": [
    "document_grader_prompt.format(document=document.page_content, question=question)"
   ]
  },
  {
   "cell_type": "code",
   "execution_count": 134,
   "id": "9a2f46b9",
   "metadata": {},
   "outputs": [
    {
     "data": {
      "text/plain": [
       "'dealing with PEPs:'"
      ]
     },
     "execution_count": 134,
     "metadata": {},
     "output_type": "execute_result"
    }
   ],
   "source": [
    "document.page_content"
   ]
  },
  {
   "cell_type": "code",
   "execution_count": 62,
   "id": "1f3b3d1e",
   "metadata": {},
   "outputs": [
    {
     "name": "stdout",
     "output_type": "stream",
     "text": [
      "PEPs are individuals who are or have been entrusted with prominent public functions both in Nigeria.\n"
     ]
    }
   ],
   "source": [
    "rag_prompt = \"\"\"\n",
    "You are an assistant that answers questions based on the context provided\n",
    "here is the context \\n\\n{context}\\n\\n\n",
    "\n",
    "Think carefully about the above context and answer the question asked below.\n",
    "\n",
    "Here is the question asked \\n\\n{question}\\n\\n\n",
    "\n",
    "Answer the question using only the context provided above.\n",
    "Be honest and do not make up any information.\"\"\"\n",
    "\n",
    "def format_docs(docs: list[str | Document]) -> str:\n",
    "    \"\"\"\n",
    "    Format the documents to be used in the prompt.\n",
    "    \"\"\"\n",
    "    if isinstance(docs[0], str):\n",
    "        return \"\\n\\n\".join(docs)\n",
    "    \n",
    "    return \"\\n\\n\".join([doc.page_content for doc in docs])\n",
    "\n",
    "response = llm.invoke(\n",
    "    [HumanMessage(rag_prompt.format(context=format_docs(documents), question=question))]\n",
    ")\n",
    "\n",
    "print(response.content)\n",
    "\n"
   ]
  },
  {
   "cell_type": "code",
   "execution_count": 252,
   "id": "b88583ce",
   "metadata": {},
   "outputs": [
    {
     "name": "stdout",
     "output_type": "stream",
     "text": [
      "Hello World\n",
      "\n",
      "This is a test document\n"
     ]
    }
   ],
   "source": [
    "print(format_docs([\"Hello World\", \"This is a test document\"]))"
   ]
  },
  {
   "cell_type": "code",
   "execution_count": 35,
   "id": "bf368af6",
   "metadata": {},
   "outputs": [
    {
     "name": "stdout",
     "output_type": "stream",
     "text": [
      "dealing with PEPs:\n",
      "\n",
      "accepting a PEP.\n",
      "\n",
      "PEPs are individuals who are or have been entrusted with prominent public functions both in Nigeria or\n",
      "\n",
      "Finally any account(s) opened by any person who qualifies as a “PEP” will be designated a “PEP” account.\n"
     ]
    }
   ],
   "source": [
    "print(format_docs(documents))"
   ]
  },
  {
   "cell_type": "code",
   "execution_count": 63,
   "id": "dfb5c593",
   "metadata": {},
   "outputs": [
    {
     "data": {
      "text/plain": [
       "{'score': 1.0,\n",
       " 'reasoning': 'The response is correct and based on the documents provided, thus the score is 1.',\n",
       " 'step': 'vectorstore'}"
      ]
     },
     "execution_count": 63,
     "metadata": {},
     "output_type": "execute_result"
    }
   ],
   "source": [
    "hallucination_instructions = \"\"\"\n",
    "    You are a response grader.\n",
    "    You will be given a response and documents for the response.\n",
    "    Your task is to grade the response based on the documents provided.\n",
    "    If the response is correct and based on the documents, return a score of 1.\n",
    "    else return a score of 0.\n",
    "    Explain the reasoning for your answer step by step.\n",
    "    Do not state the answer from the onset.\n",
    "    \"\"\"\n",
    "\n",
    "\n",
    "hallucination_prompt = \"\"\"\n",
    "Here are the documents \\n\\n{context}\\n\\n \n",
    "Here is the response \\n\\n{response}\\n\\n\n",
    "return a json object with the key 'score' and the value 1 or 0 based on the response and context\n",
    "to indicate if the response is relevant to the documents provided.\n",
    "return a key 'reasoning' with the value of your reasoning for the score given.\"\"\"\n",
    "\n",
    "hallucination_score = llm_json.invoke(\n",
    "    [SystemMessage(hallucination_instructions),\n",
    "    HumanMessage(hallucination_prompt.format(context=format_docs(documents), response=response.content))\n",
    "    ]\n",
    ")\n",
    "\n",
    "hallucination_score"
   ]
  },
  {
   "cell_type": "code",
   "execution_count": 50,
   "id": "d1198350",
   "metadata": {},
   "outputs": [
    {
     "data": {
      "text/plain": [
       "'PEPs are individuals who are or have been entrusted with prominent public functions both in Nigeria. Any account(s) opened by any person who qualifies as a “PEP” will be designated a “PEP” account.'"
      ]
     },
     "execution_count": 50,
     "metadata": {},
     "output_type": "execute_result"
    }
   ],
   "source": [
    "response.content"
   ]
  },
  {
   "cell_type": "code",
   "execution_count": 64,
   "id": "82863ad3",
   "metadata": {},
   "outputs": [
    {
     "data": {
      "text/plain": [
       "{'score': 1.0,\n",
       " 'step': 'vectorstore',\n",
       " 'reasoning': 'The response accurately answers the question of who a PEP is by stating that they are individuals entrusted with prominent public functions. Therefore, the response is relevant and correct.'}"
      ]
     },
     "execution_count": 64,
     "metadata": {},
     "output_type": "execute_result"
    }
   ],
   "source": [
    "response_instructions = \"\"\"\n",
    "    You are a response grader.\n",
    "    You will be given a response and the questuion the response asnwers.\n",
    "    Your task is to grade the response based on the question asked.\n",
    "    If the response is correct and based on the question, return a score of 1.\n",
    "    else return a score of 0.\n",
    "    Explain the reasoning for your answer step by step.\n",
    "    Do not state the answer from the onset.\n",
    "    \"\"\"\n",
    "\n",
    "response_prompt = \"\"\"\n",
    "Here is the question asked \\n\\n{question}\\n\\n\n",
    "Here is the response \\n\\n{response}\\n\\n\n",
    "return a json object with the key 'score' and the value 1 or 0 based on the response and question\n",
    "to indicate if the response is relevant to the question asked.\n",
    "return a key 'reasoning' with the value of your reasoning for the score given.\"\"\"\n",
    "\n",
    "response_score = llm_json.invoke(\n",
    "    [SystemMessage(response_instructions),\n",
    "    HumanMessage(response_prompt.format(question=question, response=response.content))\n",
    "    ]\n",
    ")\n",
    "response_score"
   ]
  },
  {
   "cell_type": "code",
   "execution_count": 106,
   "id": "51deef98",
   "metadata": {},
   "outputs": [],
   "source": [
    "my_list = [[]]"
   ]
  },
  {
   "cell_type": "code",
   "execution_count": 174,
   "id": "ed2972b8",
   "metadata": {},
   "outputs": [],
   "source": [
    "vector_db = SQLiteVec(table=\"policy\", embedding=EMBEDDINGS, connection=connection)\n",
    "retriever2 = vector_db.as_retriever()\n",
    "\n",
    "SYS_PROMPT = (\n",
    "    \"system\",\n",
    "    \"You are a helpful assistant That answers questions carefully\"\n",
    "    \"You will be provided with a vectorstore of documents on AML CFT, PEP, KYC and other policies\"\n",
    "    \"You will be asked questions about the above topics and you will answer them based on the documents provided\"\n",
    "    \"You will answer them to the best of your ability and give reasons for your answers\"\n",
    "    \"If you don't know the answer, say 'I don't know'\"\n",
    "    \"You are allowed to search the web for answers. Review answers getting from web search and combine multiple results into a final answer\"\n",
    "    \"Include sources for your final output of the websearch\"\n",
    "    \"Always confirm if they have additional information to add to the question\"\n",
    "    \"If they do, ask them to provide it\"\n",
    ")\n",
    "\n",
    "WELCOME_PROMPT = (\n",
    "    \"Welcome to the Audit Assistant \"\n",
    "    \"I am here to help you with your audit questions.\\n\"\n",
    "    \"Please ask me anything about the audit process or the bank's policies.\\n\"\n",
    "    \"Type exit or quit to end the conversation.\"\n",
    ")\n",
    "\n",
    "\n",
    "class AuditAssistantState(TypedDict):\n",
    "    \"\"\"\n",
    "    A simple agent with state management.\n",
    "    \"\"\"\n",
    "\n",
    "    question: list[str]\n",
    "    finished: bool\n",
    "    web_search: bool\n",
    "    documents: list[list[str]]\n",
    "    generated_response: Annotated[list, add_messages]\n",
    "    loops: int\n",
    "    max_loops: int\n",
    "\n",
    "\n",
    "def router(state: AuditAssistantState) -> AuditAssistantState:\n",
    "    \"\"\"\n",
    "    Rouete between vectorstore and websearch\"\"\"\n",
    "\n",
    "    if state.get(\"finished\", False):\n",
    "        return \"exit\"\n",
    "\n",
    "    \n",
    "    print(\"---ROUTING---\")\n",
    "    question = state[\"question\"][-1]\n",
    "    decision = llm_json.invoke([route_prompt] + [question])\n",
    "\n",
    "    decision = decision[\"step\"]\n",
    "\n",
    "    \n",
    "    if decision.lower().replace(\" \", \"\") == \"websearch\":\n",
    "        print(\"--ROUTING TO WEBSEARCH--\")\n",
    "        return \"websearch\"\n",
    "    \n",
    "    elif decision.lower().replace(\" \", \"\") == \"vectorstore\":\n",
    "        print(\"--ROUTING TO VECTORSTORE--\")\n",
    "        return \"vectorstore\"\n",
    "    \n",
    "\n",
    "def human_node(state: AuditAssistantState) -> AuditAssistantState:\n",
    "\n",
    "    if response := state.get(\"generated_response\"):\n",
    "        user_input = input(\n",
    "            f\"Assistant: {response[-1].content}\\n\"\n",
    "            \"User: \"\n",
    "        )\n",
    "\n",
    "    else:\n",
    "        user_input = input(\n",
    "            f\"Assistant: {WELCOME_PROMPT}\\n\"\n",
    "            \"User: \"\n",
    "        )\n",
    "    \n",
    "    if user_input.lower() in [\"exit\", \"quit\", \"stop\"] :\n",
    "        state[\"finished\"] = True\n",
    "\n",
    "    question = state.get(\"question\", [])\n",
    "    question.append(user_input)\n",
    "   \n",
    "    return state | {\"question\": question}\n",
    "\n",
    "\n",
    "def exit(state: AuditAssistantState) -> AuditAssistantState:\n",
    "    \"\"\"\n",
    "    Exit the program\n",
    "    \"\"\"\n",
    "    if state.get(\"finished\", False):\n",
    "        return \"exit\"\n",
    "    else:\n",
    "        return \"router\"\n",
    "\n",
    "\n",
    "def retrieve(state: AuditAssistantState) -> AuditAssistantState:\n",
    "\n",
    "    \"\"\"\n",
    "    Retrieve documents from a vectorstore\n",
    "    \"\"\"\n",
    "    \n",
    "    print(\"---RETRIEVING DOCUMENTS---\")\n",
    "    query = state[\"question\"][-1]\t\n",
    "    documents = state.get(\"documents\", [])\n",
    "\n",
    "    docs = retriever2.invoke(query)\n",
    "    documents.append(docs)\n",
    "\n",
    "    return {\"documents\": documents}\n",
    "\n",
    "\n",
    "def generate(state: AuditAssistantState) -> AuditAssistantState:\n",
    "    \"\"\"\n",
    "    Generate a response based on the documents retrieved\"\"\"\n",
    "\n",
    "\n",
    "    print(\"--GENERATING RESPONSE--\")\n",
    "    question = state[\"question\"]\n",
    "    documents = state[\"documents\"][-1]\n",
    "    documents = format_docs(documents)\n",
    "    loops = state.get(\"loops\", 0)\n",
    "\n",
    "    response = llm.invoke(rag_prompt.format(context=documents, question=question))\n",
    "    \n",
    "\n",
    "\n",
    "    \n",
    "    return {\"generated_response\": response, \"loops\": loops+1}\n",
    "\n",
    "    \n",
    "def grade_documents(state: AuditAssistantState) -> AuditAssistantState:\n",
    "    \"\"\"\n",
    "    Grade documents as relevant to the question asked\n",
    "    \"\"\"\n",
    "\n",
    "    question = state[\"question\"]\n",
    "    documents = state[\"documents\"]\n",
    "    relevant_documents = state[\"documents\"][-1]\n",
    "\n",
    "    filtered_docs = []\n",
    "\n",
    "    web_search = False\n",
    "    for document in relevant_documents:\n",
    "    \n",
    "        response = llm_json.invoke(\n",
    "            [SystemMessage(document_grader_instructions),\n",
    "            document_grader_prompt.format(document=document.page_content, question=question)\n",
    "            ]\n",
    "        )\n",
    "\n",
    "        score = response[\"score\"]\n",
    "\n",
    "        if score == 1:\n",
    "            print(\"--GRADED DOCUMENT AS RELEVANT--\")\n",
    "            filtered_docs.append(document)\n",
    "\n",
    "        else:\n",
    "            print(\"--GRADED DOCUMENT AS NOT RELEVANT--\")\n",
    "            web_search = True\n",
    "            continue\n",
    "\n",
    "    \n",
    "    documents.append(filtered_docs)\n",
    "    \n",
    "    return {\"documents\": documents, \"web_search\": web_search}\n",
    "\n",
    "\n",
    "def grade_response(state: AuditAssistantState) -> str:\n",
    "    \"\"\"\n",
    "    Grade the response as relevant to the document and  question asked\n",
    "    \"\"\"\n",
    "\n",
    "    question = state[\"question\"][-1]\n",
    "    response = state[\"generated_response\"][-1]\n",
    "    documents = state[\"documents\"][-1]\n",
    "    max_loops = state.get(\"max_loops\", 3)\n",
    "\n",
    "    hallucination_score = llm_json.invoke(\n",
    "    [SystemMessage(hallucination_instructions),\n",
    "    HumanMessage(hallucination_prompt.format(context=format_docs(documents), response=response))\n",
    "    ]\n",
    "    )\n",
    "\n",
    "    hallucination_score = hallucination_score[\"score\"]\n",
    "\n",
    "    if hallucination_score == 1:\n",
    "        print(\"--GRADED RESPONSE IS GROUNDED IN THE DOCUMENT--\")\n",
    "        print(\"--GRADING RESPONSE AS RELEVANT TO QUESTION--\")\n",
    "\n",
    "        response_score = llm_json.invoke(\n",
    "        [SystemMessage(response_instructions),\n",
    "        HumanMessage(response_prompt.format(question=question, response=response.content))\n",
    "        ]\n",
    "        )\n",
    "\n",
    "        response_score = response_score[\"score\"]\n",
    "\n",
    "        if response_score == 1:\n",
    "            print(\"--GRADED RESPONSE AS RELEVANT--\")\n",
    "            return \"useful\"\n",
    "        \n",
    "        elif state[\"loops\"] <= max_loops:\n",
    "            print(\"--RESPONSE DOES NOT ADDRESS THE QUESTION--\")\n",
    "            return \"not useful\"\n",
    "        \n",
    "        else:\n",
    "            print(\"--MAX RETRIES REACHED\")\n",
    "            return \"max retries\"\n",
    "        \n",
    "    elif state[\"loops\"] <= max_loops:\n",
    "        print(\"-- RESPONSE IS NOT GROUNDED IN DOCUMENTS, RETRY--\")\n",
    "        return \"not supported\"\n",
    "    \n",
    "    else:\n",
    "        print(\"--MAX RETRIES REACHED--\")\n",
    "        return \"max retries\"\n",
    "\n",
    "\n",
    "def web_search(state: AuditAssistantState) -> AuditAssistantState:\n",
    "\n",
    "    \"\"\"\n",
    "    Search the web for the question asked\"\"\"\n",
    "\n",
    "    print(\"--WEB SEARCHING--\")\n",
    "    query = state[\"question\"][-1]\n",
    "\n",
    "    print(query)\n",
    "    documents = state.get(\"documents\", [])\n",
    "\n",
    "    result = json.loads(search.invoke(query))\n",
    "    result = \"\\n\".join([doc[\"snippet\"] for doc in result])\n",
    "    result = [Document(page_content=result, metadata={\"source\": \"websearch\"})]\n",
    "    documents.append(result)\n",
    "   \n",
    "\n",
    "    return {\"documents\": documents}\n",
    "\n",
    "\n",
    "def decide_to_generate(state: AuditAssistantState) -> str:\n",
    "\n",
    "    \"\"\"\n",
    "    Decided whether to generate a response or add websearch\"\"\"\n",
    "\n",
    "    question = state[\"question\"][-1]\n",
    "    web_search = state[\"web_search\"]\n",
    "    filtered_documents = state[\"documents\"][-1]\n",
    "\n",
    "    if web_search:\n",
    "        print(\"--Not all Documents are relevant, Include webseacrh--\".upper())\n",
    "        return \"websearch\"\n",
    "    \n",
    "    else:\n",
    "        print(\"--All documents are relevant, Generate response--\".upper)\n",
    "        return \"generate\"\n",
    "\n",
    "\n",
    "\n",
    "   \n",
    "    \n"
   ]
  },
  {
   "cell_type": "code",
   "execution_count": 155,
   "id": "68835855",
   "metadata": {},
   "outputs": [
    {
     "data": {
      "text/plain": [
       "'exit'"
      ]
     },
     "execution_count": 155,
     "metadata": {},
     "output_type": "execute_result"
    }
   ],
   "source": [
    "router({\"finished\": \"vectorstore\"})"
   ]
  },
  {
   "cell_type": "code",
   "execution_count": 171,
   "id": "a43d9acd",
   "metadata": {},
   "outputs": [],
   "source": [
    "graph_builder = StateGraph(AuditAssistantState)\n",
    "\n",
    "graph_builder.add_node(\"grade_documents\", grade_documents)\n",
    "graph_builder.add_node(\"websearch\", web_search)\n",
    "graph_builder.add_node(\"generate\", generate)\n",
    "graph_builder.add_node(\"retriever\", retrieve)\n",
    "graph_builder.add_node(\"human\", human_node)\n",
    "\n",
    "graph_builder.add_edge(START, \"human\")\n",
    "graph_builder.add_edge(\"websearch\", \"generate\")\n",
    "graph_builder.add_edge(\"retriever\", \"grade_documents\")\n",
    "\n",
    "graph_builder.add_conditional_edges(\"human\", router,\n",
    "                                          {\"exit\": END,\n",
    "                                           \"vectorstore\": \"retriever\",\n",
    "                                           \"websearch\": \"websearch\"}\n",
    "                                           )\n",
    "\n",
    "graph_builder.add_conditional_edges(\"generate\", grade_response,\n",
    "                                    {\"not supported\": \"generate\",\n",
    "                                     \"not useful\": \"websearch\",\n",
    "                                     \"useful\": \"human\",\n",
    "                                     \"max retries\": \"human\"}\n",
    "                                     )\n",
    "graph_builder.add_conditional_edges(\"grade_documents\", decide_to_generate,\n",
    "                                    {\"websearch\": \"websearch\",\n",
    "                                     \"generate\": \"generate\"}\n",
    "                                     )\n",
    "\n",
    "chat_graph = graph_builder.compile()"
   ]
  },
  {
   "cell_type": "code",
   "execution_count": 165,
   "id": "df123f8c",
   "metadata": {},
   "outputs": [],
   "source": [
    "# display(Image(chat_graph.get_graph().draw_mermaid_png()))"
   ]
  },
  {
   "cell_type": "code",
   "execution_count": 92,
   "id": "dda6dd93",
   "metadata": {},
   "outputs": [
    {
     "name": "stdout",
     "output_type": "stream",
     "text": [
      "---ROUTING---\n",
      "--ROUTING TO WEBSEARCH--\n"
     ]
    },
    {
     "data": {
      "text/plain": [
       "'websearch'"
      ]
     },
     "execution_count": 92,
     "metadata": {},
     "output_type": "execute_result"
    }
   ],
   "source": [
    "router({\"question\": \"what is audit?\"})"
   ]
  },
  {
   "cell_type": "code",
   "execution_count": 93,
   "id": "d93803cc",
   "metadata": {},
   "outputs": [
    {
     "data": {
      "text/plain": [
       "'WebSearch'"
      ]
     },
     "execution_count": 93,
     "metadata": {},
     "output_type": "execute_result"
    }
   ],
   "source": [
    "list({'step': 'WebSearch'}.values())[0]"
   ]
  },
  {
   "cell_type": "code",
   "execution_count": 172,
   "id": "a357e655",
   "metadata": {},
   "outputs": [
    {
     "name": "stdout",
     "output_type": "stream",
     "text": [
      "{'question': [], 'generated_response': [], 'max_loops': 3}\n",
      "{'question': ['exit'], 'finished': True, 'generated_response': [], 'max_loops': 3}\n"
     ]
    }
   ],
   "source": [
    "inputs = {\"question\": [], \"max_loops\": 3}\n",
    "for event in chat_graph.stream(inputs, stream_mode=\"values\"):\n",
    "    print(event)\n",
    "\n",
    "    "
   ]
  },
  {
   "cell_type": "code",
   "execution_count": 173,
   "id": "cb5fccf1",
   "metadata": {},
   "outputs": [
    {
     "name": "stdout",
     "output_type": "stream",
     "text": [
      "False\n",
      "---ROUTING---\n",
      "--ROUTING TO WEBSEARCH--\n",
      "--WEB SEARCHING--\n",
      "Who is an auditor?\n",
      "--GENERATING RESPONSE--\n",
      "--GRADED RESPONSE IS GROUNDED IN THE DOCUMENT--\n",
      "--GRADING RESPONSE AS RELEVANT TO QUESTION--\n",
      "--GRADED RESPONSE AS RELEVANT--\n",
      "False\n",
      "---ROUTING---\n",
      "--ROUTING TO WEBSEARCH--\n",
      "--WEB SEARCHING--\n",
      "How do I become one?\n",
      "--GENERATING RESPONSE--\n",
      "--GRADED RESPONSE IS GROUNDED IN THE DOCUMENT--\n",
      "--GRADING RESPONSE AS RELEVANT TO QUESTION--\n",
      "--RESPONSE DOES NOT ADDRESS THE QUESTION--\n",
      "--WEB SEARCHING--\n",
      "How do I become one?\n",
      "--GENERATING RESPONSE--\n",
      "--GRADED RESPONSE IS GROUNDED IN THE DOCUMENT--\n",
      "--GRADING RESPONSE AS RELEVANT TO QUESTION--\n",
      "--RESPONSE DOES NOT ADDRESS THE QUESTION--\n",
      "--WEB SEARCHING--\n",
      "How do I become one?\n",
      "--GENERATING RESPONSE--\n",
      "--GRADED RESPONSE IS GROUNDED IN THE DOCUMENT--\n",
      "--GRADING RESPONSE AS RELEVANT TO QUESTION--\n",
      "--GRADED RESPONSE AS RELEVANT--\n",
      "False\n",
      "---ROUTING---\n",
      "--ROUTING TO WEBSEARCH--\n",
      "--WEB SEARCHING--\n",
      "I want infornation on becomiing an auditor\n",
      "--GENERATING RESPONSE--\n",
      "--GRADED RESPONSE IS GROUNDED IN THE DOCUMENT--\n",
      "--GRADING RESPONSE AS RELEVANT TO QUESTION--\n",
      "--GRADED RESPONSE AS RELEVANT--\n"
     ]
    },
    {
     "data": {
      "text/plain": [
       "{'question': ['Who is an auditor?',\n",
       "  'How do I become one?',\n",
       "  'I want infornation on becomiing an auditor',\n",
       "  'exit'],\n",
       " 'finished': True,\n",
       " 'documents': [[Document(metadata={'source': 'websearch'}, page_content=\"An auditor is a professional authorized to examine and confirm the accuracy of financial records to ensure that companies comply with laws and regulations.\\nAuditors can be classified into several types, each serving distinct roles based on the nature of their work, the entities they audit, and their objectives. Internal. Internal auditors are employed by organizations to independently evaluate operations, focusing on improving internal controls, risk management, and governance processes.\\nWhat is an Auditor? An auditor is an individual who examines the accuracy of recorded business transactions.Auditors are needed in order to verify that processes are functioning as planned, and that the financial statements produced by an organization fairly reflect its operational and financial results. They are primarily engaged in audits, which verify an entity's financial records and ...\\nAuditors examine companies' records, processes and systems to ensure accuracy and compliance, as well as to identify opportunities to better manage risk. The auditor career pa.\")],\n",
       "  [Document(metadata={'source': 'websearch'}, page_content=\"Do you want to become the best version of yourself? The road to becoming the best starts with small steps!\\nUnderstanding the Process of Becoming a U.S. Citizen In this section, you will find a general description of the naturalization application process. Before you apply, be sure that you meet all eligibility requirements and check if you qualify for any exceptions and accommodations. USCIS has also developed responses to commonly asked questions about citizenship and the naturalization process.\\nIf you want to become a naturalized citizen, you must meet U.S. citizenship requirements before your application will be successful. Here's what's required of you by the U.S. Citizenship and ...\\nWhat should you do after the ceremony? On this page, new citizens and community organizations will find resources that serve as a guide to the next steps available for new U.S. citizens.\")],\n",
       "  [Document(metadata={'source': 'websearch'}, page_content=\"Understanding the Process of Becoming a U.S. Citizen In this section, you will find a general description of the naturalization application process. Before you apply, be sure that you meet all eligibility requirements and check if you qualify for any exceptions and accommodations. USCIS has also developed responses to commonly asked questions about citizenship and the naturalization process.\\nDo you want to become the best version of yourself? The road to becoming the best starts with small steps!\\nIf you want to become a naturalized citizen, you must meet U.S. citizenship requirements before your application will be successful. Here's what's required of you by the U.S. Citizenship and ...\\nWhat should you do after the ceremony? On this page, new citizens and community organizations will find resources that serve as a guide to the next steps available for new U.S. citizens.\")],\n",
       "  [Document(metadata={'source': 'websearch'}, page_content='Do you want to become the best version of yourself? The road to becoming the best starts with small steps!\\nUnderstanding the Process of Becoming a U.S. Citizen In this section, you will find a general description of the naturalization application process. Before you apply, be sure that you meet all eligibility requirements and check if you qualify for any exceptions and accommodations. USCIS has also developed responses to commonly asked questions about citizenship and the naturalization process.\\nNaturalization is the way that an alien not born in the United States voluntarily becomes a U.S. citizen. The most common path to U.S. citizenship through naturalization is being a lawful permanent resident (LPR) for at least five years. For more information on determining the earliest accepted filing date for your naturalization application, see the USCIS Early Filing Calculator. Before you ...\\nWhat should you do after the ceremony? On this page, new citizens and community organizations will find resources that serve as a guide to the next steps available for new U.S. citizens.')],\n",
       "  [Document(metadata={'source': 'websearch'}, page_content=\"They often need the Certified Information Systems Auditor® credential. Internal Auditor Internal auditors work independently within the companies they audit, providing ongoing assessments and ...\\nBecoming an auditor is an excellent decision, considering its favorable career outlook. ... If you want more information on how to become an auditor, our team of experts at Research.com has compiled the academic requirements in auditing, including a step-by-step route to career advancement, to help you pursue your auditing career.\\nThe road to becoming an auditor is hard but quite rewarding. Go ahead; take the first step and get started at building a fulfilling career in this ever-changing and fast-paced field. Remember that whether you are asking : how to become an auditor or how can I become one. Preparation, Education, and Experience will take care of you. Good luck!\\nA bachelor's degree in accounting or a related field is typically required to become an accountant or auditor. Completing certification in a specific field of accounting, such as becoming a licensed Certified Public Accountant (CPA), may improve job prospects. ... Accountants and auditors typically need at least a bachelor's degree in ...\")]],\n",
       " 'generated_response': [AIMessage(content='An auditor is a professional authorized to examine and confirm the accuracy of financial records to ensure that companies comply with laws and regulations. An auditor is also an individual who examines the accuracy of recorded business transactions.', additional_kwargs={}, response_metadata={'prompt_feedback': {'block_reason': 0, 'safety_ratings': []}, 'finish_reason': 'STOP', 'model_name': 'gemini-2.0-flash', 'safety_ratings': []}, id='run-30db2878-7a42-4ba7-944b-b862b3ed7c0f-0', usage_metadata={'input_tokens': 255, 'output_tokens': 41, 'total_tokens': 296, 'input_token_details': {'cache_read': 0}}),\n",
       "  AIMessage(content='The provided context describes the process of becoming a U.S. citizen. It does not contain any information about who an auditor is or how to become one.', additional_kwargs={}, response_metadata={'prompt_feedback': {'block_reason': 0, 'safety_ratings': []}, 'finish_reason': 'STOP', 'model_name': 'gemini-2.0-flash', 'safety_ratings': []}, id='run-7f59cd85-8fed-484e-932b-61493c1a451a-0', usage_metadata={'input_tokens': 254, 'output_tokens': 33, 'total_tokens': 287, 'input_token_details': {'cache_read': 0}}),\n",
       "  AIMessage(content='The provided context describes the naturalization process to become a U.S. citizen. It does not contain any information about who an auditor is or how to become one.', additional_kwargs={}, response_metadata={'prompt_feedback': {'block_reason': 0, 'safety_ratings': []}, 'finish_reason': 'STOP', 'model_name': 'gemini-2.0-flash', 'safety_ratings': []}, id='run-cc48bb79-23ae-43d1-8961-e79b0084fe2e-0', usage_metadata={'input_tokens': 254, 'output_tokens': 35, 'total_tokens': 289, 'input_token_details': {'cache_read': 0}}),\n",
       "  AIMessage(content='The provided context describes the process of becoming a U.S. citizen through naturalization. It does not contain any information about who an auditor is or how to become one.', additional_kwargs={}, response_metadata={'prompt_feedback': {'block_reason': 0, 'safety_ratings': []}, 'finish_reason': 'STOP', 'model_name': 'gemini-2.0-flash', 'safety_ratings': []}, id='run-825a6386-569c-4ab5-9762-b9c11100f44c-0', usage_metadata={'input_tokens': 289, 'output_tokens': 36, 'total_tokens': 325, 'input_token_details': {'cache_read': 0}}),\n",
       "  AIMessage(content=\"Based on the context provided:\\n\\n*   **Who is an auditor?** Internal auditors work independently within the companies they audit, providing ongoing assessments.\\n*   **How do I become one?** You typically need a bachelor's degree in accounting or a related field. Completing certification in a specific field of accounting, such as becoming a licensed Certified Public Accountant (CPA), may improve job prospects. Preparation, Education, and Experience will help you. Research.com has compiled the academic requirements in auditing, including a step-by-step route to career advancement.\\n*   **I want information on becoming an auditor:** Research.com has compiled the academic requirements in auditing, including a step-by-step route to career advancement, to help you pursue your auditing career. Preparation, Education, and Experience will help you.\", additional_kwargs={}, response_metadata={'prompt_feedback': {'block_reason': 0, 'safety_ratings': []}, 'finish_reason': 'STOP', 'model_name': 'gemini-2.0-flash', 'safety_ratings': []}, id='run-74d186e5-7a06-4275-80fb-70b9075082dd-0', usage_metadata={'input_tokens': 317, 'output_tokens': 168, 'total_tokens': 485, 'input_token_details': {'cache_read': 0}})],\n",
       " 'loops': 5}"
      ]
     },
     "execution_count": 173,
     "metadata": {},
     "output_type": "execute_result"
    }
   ],
   "source": [
    "config = {\"recursion_limit\": 1000}\n",
    "chat_graph.invoke({\"question\": []}, config)"
   ]
  },
  {
   "cell_type": "code",
   "execution_count": 101,
   "id": "5fde00ce",
   "metadata": {},
   "outputs": [
    {
     "name": "stdout",
     "output_type": "stream",
     "text": [
      "---ROUTING---\n",
      "--ROUTING TO VECTORSTORE--\n",
      "---RETRIEVING DOCUMENTS---\n",
      "--GRADED DOCUMENT AS RELEVANT--\n",
      "--GRADED DOCUMENT AS RELEVANT--\n",
      "--GRADED DOCUMENT AS RELEVANT--\n",
      "--GRADED DOCUMENT AS RELEVANT--\n",
      "<built-in method upper of str object at 0x000002819EBE73F0>\n",
      "--GENERATING RESPONSE--\n",
      "--GRADED RESPONSE IS GROUNDED IN THE DOCUMENT--\n",
      "--GRADING RESPONSE AS RELEVANT TO QUESTION--\n",
      "--GRADED RESPONSE AS RELEVANT--\n"
     ]
    },
    {
     "data": {
      "text/plain": [
       "{'question': 'What is AML CFT?',\n",
       " 'web_search': False,\n",
       " 'documents': [Document(metadata={'source': 'C:\\\\Users\\\\aeniatorudabo\\\\Documents\\\\7.3 - AML CFT CPF Policy.pdf', 'coordinates': {'points': [[89.088, 191.44999999999993], [89.088, 203.44999999999993], [224.11599999999999, 203.44999999999993], [224.11599999999999, 191.44999999999993]], 'system': 'PixelSpace', 'layout_width': 595.2, 'layout_height': 841.92}, 'file_directory': 'C:\\\\Users\\\\aeniatorudabo\\\\Documents', 'filename': '7.3 - AML CFT CPF Policy.pdf', 'languages': ['eng'], 'last_modified': '2024-11-20T10:18:40', 'page_number': 121, 'filetype': 'application/pdf', 'category': 'Title', 'element_id': 'cdb79991f33ea7a2e4924045042e2c67'}, page_content='with respect to AML/CFT/CFT.'),\n",
       "  Document(metadata={'source': 'C:\\\\Users\\\\aeniatorudabo\\\\Documents\\\\7.3 - AML CFT CPF Policy.pdf', 'coordinates': {'points': [[57.624, 197.68999999999994], [57.624, 209.68999999999994], [173.68599999999998, 209.68999999999994], [173.68599999999998, 197.68999999999994]], 'system': 'PixelSpace', 'layout_width': 595.2, 'layout_height': 841.92}, 'file_directory': 'C:\\\\Users\\\\aeniatorudabo\\\\Documents', 'filename': '7.3 - AML CFT CPF Policy.pdf', 'languages': ['eng'], 'last_modified': '2024-11-20T10:18:40', 'page_number': 138, 'filetype': 'application/pdf', 'category': 'Title', 'element_id': 'faa74e240bc8fce3acbd3110aaf4f133'}, page_content='AML/CFT/CPF purposes.'),\n",
       "  Document(metadata={'source': 'C:\\\\Users\\\\aeniatorudabo\\\\Documents\\\\7.3 - AML CFT CPF Policy.pdf', 'coordinates': {'points': [[75.624, 608.21], [75.624, 620.21], [295.656, 620.21], [295.656, 608.21]], 'system': 'PixelSpace', 'layout_width': 595.2, 'layout_height': 841.92}, 'file_directory': 'C:\\\\Users\\\\aeniatorudabo\\\\Documents', 'filename': '7.3 - AML CFT CPF Policy.pdf', 'languages': ['eng'], 'last_modified': '2024-11-20T10:18:40', 'page_number': 147, 'parent_id': '2c260a878b4fd054dbf7ce68274f83de', 'filetype': 'application/pdf', 'category': 'NarrativeText', 'element_id': '399acf13b0a90a277203d26ec04f3d39'}, page_content='basic AML/CFT/CPF information as shown below:'),\n",
       "  Document(metadata={'source': 'C:\\\\Users\\\\aeniatorudabo\\\\Documents\\\\7.3 - AML CFT CPF Policy.pdf', 'coordinates': {'points': [[93.648, 758.016], [93.648, 770.016], [223.87599999999998, 770.016], [223.87599999999998, 758.016]], 'system': 'PixelSpace', 'layout_width': 595.2, 'layout_height': 841.92}, 'file_directory': 'C:\\\\Users\\\\aeniatorudabo\\\\Documents', 'filename': '7.3 - AML CFT CPF Policy.pdf', 'languages': ['eng'], 'last_modified': '2024-11-20T10:18:40', 'page_number': 138, 'filetype': 'application/pdf', 'category': 'Title', 'element_id': '6bcb4a476417f49463b5c0b1d9e4a734'}, page_content='AML/CFT/CPF requirements.')],\n",
       " 'generated_response': AIMessage(content='AML/CFT refers to AML/CFT/CPF. It relates to AML/CFT/CPF purposes and AML/CFT/CPF requirements. Basic AML/CFT/CPF information is also mentioned.', additional_kwargs={}, response_metadata={'prompt_feedback': {'block_reason': 0, 'safety_ratings': []}, 'finish_reason': 'STOP', 'model_name': 'gemini-2.0-flash', 'safety_ratings': []}, id='run-bba0a72b-53f2-4150-bfb5-c32c64d747af-0', usage_metadata={'input_tokens': 112, 'output_tokens': 45, 'total_tokens': 157, 'input_token_details': {'cache_read': 0}}),\n",
       " 'loops': 1}"
      ]
     },
     "execution_count": 101,
     "metadata": {},
     "output_type": "execute_result"
    }
   ],
   "source": [
    "chat_graph.invoke({\"question\": \"What is AML CFT?\"}, config)"
   ]
  }
 ],
 "metadata": {
  "kernelspec": {
   "display_name": ".venv",
   "language": "python",
   "name": "python3"
  },
  "language_info": {
   "codemirror_mode": {
    "name": "ipython",
    "version": 3
   },
   "file_extension": ".py",
   "mimetype": "text/x-python",
   "name": "python",
   "nbconvert_exporter": "python",
   "pygments_lexer": "ipython3",
   "version": "3.12.3"
  }
 },
 "nbformat": 4,
 "nbformat_minor": 5
}
